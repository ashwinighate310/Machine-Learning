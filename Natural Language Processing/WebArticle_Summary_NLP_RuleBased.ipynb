{
 "cells": [
  {
   "cell_type": "code",
   "execution_count": 48,
   "metadata": {},
   "outputs": [],
   "source": [
    "from urllib.request import Request, urlopen\n",
    "import requests\n",
    "from bs4 import BeautifulSoup\n",
    "import re"
   ]
  },
  {
   "cell_type": "code",
   "execution_count": 29,
   "metadata": {},
   "outputs": [],
   "source": [
    "site_URL = \"https://www.nytimes.com/guides/well/how-to-meditate\"\n"
   ]
  },
  {
   "cell_type": "code",
   "execution_count": 162,
   "metadata": {},
   "outputs": [
    {
     "name": "stdout",
     "output_type": "stream",
     "text": [
      "[<meta charset=\"utf-8\"/>, <meta content=\"NYT-Well\" name=\"sourceApp\"/>, <meta content=\"width=device-width, initial-scale=1, maximum-scale=1, user-scalable=0\" name=\"viewport\"/>, <title>How to Meditate - Well Guides - The New York Times</title>, <meta content=\"How to Meditate\" property=\"og:title\"/>, <meta content=\"Meditation is a simple practice available to all, which can reduce stress, increase calmness and clarity and promote happiness. Learning how to meditate is straightforward, and the benefits can come quickly.\" name=\"description\" property=\"og:description\"/>, <meta content=\"https://static01.nyt.com/images/2018/01/12/health/well_meditation_guide_promo/well_meditation_guide_promo-blog480.jpg\" property=\"og:image\"/>, <meta content=\"https://www.nytimes.com/guides/well/how-to-meditate\" property=\"og:url\"/>, <meta content=\"summary_large_image\" name=\"twitter:card\"/>, <meta content=\"@nytimes\" name=\"twitter:site\"/>, <meta content=\"How to Meditate\" name=\"guide-title\">\n",
      "<meta content=\"guide\" name=\"PT\">\n",
      "<meta content=\"well\" name=\"CG\"/>\n",
      "<meta content=\"\" name=\"SCG\"/>\n",
      "<link href=\"https://www.nytimes.com/guides/well/how-to-meditate\" rel=\"canonical\"/>\n",
      "<link href=\"https://static01.nyt.com/favicon.ico\" rel=\"icon\"/>\n",
      "<link href=\"https://typeface.nyt.com/css/plw8kql.css\" media=\"screen\" rel=\"stylesheet\" type=\"text/css\"/>\n",
      "<link href=\"https://int.nyt.com/applications/guides-web/assets/web/css/how-to-guides.styles.951d86a0.css\" media=\"screen\" rel=\"stylesheet\" type=\"text/css\"/>\n",
      "</meta></meta>, <meta content=\"guide\" name=\"PT\">\n",
      "<meta content=\"well\" name=\"CG\"/>\n",
      "<meta content=\"\" name=\"SCG\"/>\n",
      "<link href=\"https://www.nytimes.com/guides/well/how-to-meditate\" rel=\"canonical\"/>\n",
      "<link href=\"https://static01.nyt.com/favicon.ico\" rel=\"icon\"/>\n",
      "<link href=\"https://typeface.nyt.com/css/plw8kql.css\" media=\"screen\" rel=\"stylesheet\" type=\"text/css\"/>\n",
      "<link href=\"https://int.nyt.com/applications/guides-web/assets/web/css/how-to-guides.styles.951d86a0.css\" media=\"screen\" rel=\"stylesheet\" type=\"text/css\"/>\n",
      "</meta>, <meta content=\"well\" name=\"CG\"/>, <meta content=\"\" name=\"SCG\"/>, <link href=\"https://www.nytimes.com/guides/well/how-to-meditate\" rel=\"canonical\"/>, <link href=\"https://static01.nyt.com/favicon.ico\" rel=\"icon\"/>, <link href=\"https://typeface.nyt.com/css/plw8kql.css\" media=\"screen\" rel=\"stylesheet\" type=\"text/css\"/>, <link href=\"https://int.nyt.com/applications/guides-web/assets/web/css/how-to-guides.styles.951d86a0.css\" media=\"screen\" rel=\"stylesheet\" type=\"text/css\"/>]\n"
     ]
    }
   ],
   "source": [
    "# scraping web page using requests library\n",
    "ua = {\"User-Agent\":\"Mozilla/5.0\"}\n",
    "page = requests.get(site_URL, headers=ua)\n",
    "soup = BeautifulSoup(page.text, \"html.parser\")\n",
    "print(soup.head())"
   ]
  },
  {
   "cell_type": "code",
   "execution_count": 161,
   "metadata": {},
   "outputs": [
    {
     "name": "stdout",
     "output_type": "stream",
     "text": [
      "[<meta charset=\"utf-8\"/>, <meta content=\"NYT-Well\" name=\"sourceApp\"/>, <meta content=\"width=device-width, initial-scale=1, maximum-scale=1, user-scalable=0\" name=\"viewport\"/>, <title>How to Meditate - Well Guides - The New York Times</title>, <meta content=\"How to Meditate\" property=\"og:title\"/>, <meta content=\"Meditation is a simple practice available to all, which can reduce stress, increase calmness and clarity and promote happiness. Learning how to meditate is straightforward, and the benefits can come quickly.\" name=\"description\" property=\"og:description\"/>, <meta content=\"https://static01.nyt.com/images/2018/01/12/health/well_meditation_guide_promo/well_meditation_guide_promo-blog480.jpg\" property=\"og:image\"/>, <meta content=\"https://www.nytimes.com/guides/well/how-to-meditate\" property=\"og:url\"/>, <meta content=\"summary_large_image\" name=\"twitter:card\"/>, <meta content=\"@nytimes\" name=\"twitter:site\"/>, <meta content=\"How to Meditate\" name=\"guide-title\">\n",
      "<meta content=\"guide\" name=\"PT\">\n",
      "<meta content=\"well\" name=\"CG\"/>\n",
      "<meta content=\"\" name=\"SCG\"/>\n",
      "<link href=\"https://www.nytimes.com/guides/well/how-to-meditate\" rel=\"canonical\"/>\n",
      "<link href=\"https://static01.nyt.com/favicon.ico\" rel=\"icon\"/>\n",
      "<link href=\"https://typeface.nyt.com/css/plw8kql.css\" media=\"screen\" rel=\"stylesheet\" type=\"text/css\"/>\n",
      "<link href=\"https://int.nyt.com/applications/guides-web/assets/web/css/how-to-guides.styles.951d86a0.css\" media=\"screen\" rel=\"stylesheet\" type=\"text/css\"/>\n",
      "</meta></meta>, <meta content=\"guide\" name=\"PT\">\n",
      "<meta content=\"well\" name=\"CG\"/>\n",
      "<meta content=\"\" name=\"SCG\"/>\n",
      "<link href=\"https://www.nytimes.com/guides/well/how-to-meditate\" rel=\"canonical\"/>\n",
      "<link href=\"https://static01.nyt.com/favicon.ico\" rel=\"icon\"/>\n",
      "<link href=\"https://typeface.nyt.com/css/plw8kql.css\" media=\"screen\" rel=\"stylesheet\" type=\"text/css\"/>\n",
      "<link href=\"https://int.nyt.com/applications/guides-web/assets/web/css/how-to-guides.styles.951d86a0.css\" media=\"screen\" rel=\"stylesheet\" type=\"text/css\"/>\n",
      "</meta>, <meta content=\"well\" name=\"CG\"/>, <meta content=\"\" name=\"SCG\"/>, <link href=\"https://www.nytimes.com/guides/well/how-to-meditate\" rel=\"canonical\"/>, <link href=\"https://static01.nyt.com/favicon.ico\" rel=\"icon\"/>, <link href=\"https://typeface.nyt.com/css/plw8kql.css\" media=\"screen\" rel=\"stylesheet\" type=\"text/css\"/>, <link href=\"https://int.nyt.com/applications/guides-web/assets/web/css/how-to-guides.styles.951d86a0.css\" media=\"screen\" rel=\"stylesheet\" type=\"text/css\"/>]\n"
     ]
    }
   ],
   "source": [
    "# scraping web page using urllib.request library\n",
    "page = Request(site_URL, headers={'User-Agent': 'Mozilla/5.0'})\n",
    "html_page = urlopen(page).read().decode('utf8','ignore') \n",
    "soup = BeautifulSoup(html_page, 'html.parser')\n",
    "print(soup.head())"
   ]
  },
  {
   "cell_type": "code",
   "execution_count": 166,
   "metadata": {},
   "outputs": [],
   "source": [
    "# Beautify the output\n",
    "# print(soup.prettify())"
   ]
  },
  {
   "cell_type": "code",
   "execution_count": 165,
   "metadata": {},
   "outputs": [
    {
     "data": {
      "text/plain": [
       "[<p class=\"guide-title\"><a>How to Meditate</a></p>,\n",
       " <p>Share</p>,\n",
       " <p>By <a href=\"https://www.twitter.com/dgelles\" rel=\"noreferrer noopener\" target=\"_blank\"><span>David Gelles</span></a></p>,\n",
       " <p>Illustrations by Sam Kalda</p>,\n",
       " <p>Meditation is a simple practice available to all, which can reduce stress, increase calmness and clarity and promote happiness. Learning how to meditate is straightforward, and the benefits can come quickly. Here, we offer basic tips to get you started on a path toward greater equanimity, acceptance and joy. Take a deep breath, and get ready to relax.</p>,\n",
       " <p>Find a comfortable spot and get ready to relax.</p>,\n",
       " <p>Setting aside time for formal meditation is an important way to establish a routine and get comfortable with the practice. <strong>Even just a few minutes a day can make a big difference.</strong></p>,\n",
       " <p>“Some people complain about taking time out of their day,” said Atman Smith, who teaches meditation to underserved communities in Baltimore. “Practice is important though. It’s a tool you can use to bring yourself back to the present in stressful situations.”</p>,\n",
       " <p>But we shouldn’t stop being mindful when we stop meditating. “The purpose of mindfulness meditation is to become mindful throughout all parts of our life, so that we’re awake, present and openhearted in everything we do,” said Tara Brach, <a href=\"https://www.tarabrach.com/\" target=\"_blank\"><u>a popular meditation teacher based near Washington, D.C.</u></a> “Not just when we’re sitting on the cushion.”</p>,\n",
       " <p>Mindfulness meditation isn’t about letting your thoughts wander. But it isn’t about trying to empty your mind, either. Instead, the practice involves paying close attention to the present moment — especially our own thoughts, emotions and sensations — whatever it is that’s happening.</p>,\n",
       " <p>In addition to basic meditation instructions, we’ve compiled guided meditations for a few popular exercises including the body scan, walking meditation and mindful eating. “Each of the applied mindfulness practices brings alive an experience that might otherwise be more automatic,” said Ms. Brach.</p>,\n",
       " <p>Though meditating on your own is an essential part of a complete practice, the steady guidance of an experienced teacher can be invaluable, especially as you’re getting started. Our minds wander so easily, and the clear instructions of a teacher can help bring us back to the present moment.</p>,\n",
       " <p>Learn how to pay close attention to the present moment with this meditation exercise.</p>,\n",
       " <p>It’s inevitable: During meditation, your mind will roam. You may notice other sensations in the body, things happening around you, or just get lost in thought, daydreaming about the past or present, possibly judging yourself or others.</p>,\n",
       " <p>There’s nothing wrong with this — thinking is just as natural as breathing. “It’s the natural conditioning of the mind to wander,” said Ms. Brach.</p>,\n",
       " <p><strong>When this happens, simply notice what it is you were thinking about or what was distracting you, then take a moment and pause.</strong></p>,\n",
       " <p>You don’t need to pull your attention right back to the breath. Instead, let go of whatever it was you were thinking about, reopen your attention, then gently return your awareness to the breath, being present for each inhalation and exhalation.</p>,\n",
       " <p>“Don’t just drag the mind back to the breath,” said Ms. Brach. “Instead reopen the attention, then gently come and land again.”</p>,\n",
       " <p>After a few breaths, invariably, the mind will wander again. Don’t beat yourself up about this. It’s natural. What’s important is how we respond when it happens. Simply acknowledge whatever it is you were thinking of — without ascribing too much judgment to it, without letting it carry you away — and take a moment to come back to the present, and resume your meditation.</p>,\n",
       " <p>“Where we build our skill is in the practice of coming back,” said Ms. Brach. “Coming back again and again. Notice it — <em>thinking</em> — and then pause, and then come back to the present moment.”</p>,\n",
       " <p>An exercise to help you stay in the present moment while you meditate.</p>,\n",
       " <p>You can practice mindfulness meditation on your own anytime and anywhere. But <strong>listening to basic guided meditations can also be helpful, especially when getting started.</strong> Instructions from an experienced teacher can help remind us to come back to the present moment, let go of distracting thoughts and not be so hard on ourselves.</p>,\n",
       " <p>Here are four guided meditations you can listen to that will help you remain in the present moment. Choose the one that’s the right length for you: One minute is a great place to start but also good if you simply don’t have a lot of time. If you’re more experienced or ready for an extended mindfulness session, try the 10- or 15-minute sessions. You can download these tracks and listen to them when you’re ready to meditate.</p>,\n",
       " <p>Your browser does not support the <code>audio</code> element.</p>,\n",
       " <p class=\"current-time\">0:00</p>,\n",
       " <p class=\"total-time\">0:00</p>,\n",
       " <p>Your browser does not support the <code>audio</code> element.</p>,\n",
       " <p class=\"current-time\">0:00</p>,\n",
       " <p class=\"total-time\">0:00</p>,\n",
       " <p>Your browser does not support the <code>audio</code> element.</p>,\n",
       " <p class=\"current-time\">0:00</p>,\n",
       " <p class=\"total-time\">0:00</p>,\n",
       " <p>Your browser does not support the <code>audio</code> element.</p>,\n",
       " <p class=\"current-time\">0:00</p>,\n",
       " <p class=\"total-time\">0:00</p>,\n",
       " <p>Instead of training your attention on the breath, as is the case in basic mindfulness meditation, the body scan involves systematically focusing on different sensations and areas, from the head to the toes.</p>,\n",
       " <p>Your browser does not support the <code>audio</code> element.</p>,\n",
       " <p class=\"current-time\">0:00</p>,\n",
       " <p class=\"total-time\">0:00</p>,\n",
       " <p><br/></p>,\n",
       " <p>Start at the top of your head. Slowly and deliberately, bring your attention to the surface of your skin, one inch at a time. See if you can feel your scalp, your ears, your eyelids and your nose. Continue in this manner, moving across the face, over the ears, down the neck and shoulders and all the way down to your toes.</p>,\n",
       " <p>At first, it might seem as if you don’t feel anything at all. But as you progress, you might begin to notice a whole world of new sensations. Some of the feelings might be pleasant, a gentle warmth, a comfortable weight. Some feelings might be neutral — tingling or itching. And some might be unpleasant. Your feet might feel soreness somewhere.</p>,\n",
       " <p>Whatever the sensation is, just note it. If you need to move to relieve real pain, do so. But try not to react — labeling the experience good or bad — even if it’s unpleasant. Instead, just acknowledge what it is you’re feeling, and continue with the body scan. And of course, if you realize your mind has wandered, simply note the thought, and return your attention to the body.</p>,\n",
       " <p>May 10, 2016</p>,\n",
       " <p>April 25, 2016</p>,\n",
       " <p>April 23, 2016</p>,\n",
       " <p>February 27, 2015</p>,\n",
       " <p>Discovering the present moment.</p>,\n",
       " <p>Put most simply, <strong>meditation is a way to train the mind.</strong> Most of the time, our minds are wandering — we’re thinking about the future, dwelling on the past, worrying, fantasizing, fretting or daydreaming. Meditation brings us back to the present moment, and gives us the tools we need to be less stressed, calmer and kinder to ourselves and others.</p>,\n",
       " <p>“Meditation is a training of our attention,” Ms. Brach said. “It allows us to step out of distracted thought, and helps us arrive in the present moment in a balanced and clear way.”</p>,\n",
       " <p>There are lots of different types of meditation. Most religions have contemplative traditions, and there are plenty of secular ways to meditate, too. But in recent years, mindfulness meditation has become increasingly popular.</p>,\n",
       " <p>Basic mindfulness meditation is the practice of paying attention to the present moment with an accepting, nonjudgmental disposition. <strong>The goal isn’t to stop thinking, or to empty the mind.</strong> Rather, the point is to pay close attention to your physical sensations, thoughts and emotions in order to see them more clearly, without making so many assumptions, or making up stories.</p>,\n",
       " <p>It’s a deceptively simple exercise — just be right here, right now, without daydreaming. But with practice it can yield profound results, giving us greater control of our actions, and making room for more kindness and equanimity, even in difficult situations. With time, mindfulness meditation can even help us better understand what causes us stress, and what we can do to relieve it.</p>,\n",
       " <p>Though mindfulness meditation was inspired by Buddhist practices, today it is available as a wholly secular practice that emphasizes stress reduction, the cultivation of focus and the development of tranquility.</p>,\n",
       " <p>“There’s a misconception that mindfulness is religious,” said Mr. Smith. “What we have to explain is that it’s a stress reduction technique and a way to get yourself stronger mentally. It’s a self-care practice.”</p>,\n",
       " <p>There’s a large and growing body of research identifying the measurable effects of mindfulness on the body and brain, and it is catching on in professional settings including education, sports, business and even the military.</p>,\n",
       " <p>Though the words are sometimes used interchangeably, it’s useful to draw a distinction between mindfulness and meditation.</p>,\n",
       " <p><strong>Mindfulness is a quality of being</strong> — the experience of being open and aware in the present moment, without reflexive judgment, automatic criticism or mind wandering.</p>,\n",
       " <p>Mindfulness meditation is the practice of actually being present in the moment, which in turn trains us to become more mindful throughout the day, particularly during difficult situations.</p>,\n",
       " <p>As Ms. Brach puts it: “Mindfulness is your awareness of what’s going on in the present moment without any judgment. Meditation is the training of attention which cultivates that mindfulness.”</p>,\n",
       " <p>Mindfulness meditation isn’t the only way to meditate. Transcendental Meditation, which aims to promote a state of relaxed awareness through the recitation of a mantra, is also popular these days. But in this guide, we’re focused on mindfulness, which is increasingly popular and easy to learn.</p>,\n",
       " <p>April 14, 2015</p>,\n",
       " <p>November 10, 2015</p>,\n",
       " <p>June 17, 2016</p>,\n",
       " <p class=\"leadin\">Sign up for emails on how to meditate, updates on the latest research and additional resources to help you deepen your practice. Coming soon.</p>,\n",
       " <p><a href=\"https://www.nytimes.com/newsletters/sample/well\" rel=\"noopener noreferrer\" target=\"_blank\">See sample</a><span class=\"g-newsletter-link-pipe\"> | </span><a href=\"https://www.nytimes.com/content/help/rights/privacy/policy/privacy-policy.html\" rel=\"noopener noreferrer\" target=\"_blank\">Privacy Policy</a><span class=\"g-newsletter-link-pipe\"> | </span>Opt out or <a href=\"https://www.nytimes.com/help/index.html\" rel=\"noopener noreferrer\" target=\"_blank\">contact us</a> anytime</p>,\n",
       " <p>A few tips to get started.</p>,\n",
       " <p>Just like any habit, meditation gets easier to do if it’s part of your routine. <strong>Choose a time to do it each day and try to stick with it.</strong> For many people, it’s easiest to meditate first thing in the morning. But whether it’s at lunch, after work, or before you go to bed, see if you can be consistent. “Start by setting aside time each day,” said Ms. Brach. “Just like physical exercise, to develop a habit of practice means being regular.”</p>,\n",
       " <p>Similarly, it can help to meditate in the same location each day. This isn’t essential, but it can help minimize the potential for distractions and mind wandering. It’s not necessary to fold your legs into lotus position, or even sit on the floor. <strong>Just find a comfortable position where you can sit upright, and where you won’t be too distracted.</strong> “The important thing is that we’re committing a little bit of time to come into stillness and simply pay attention to what’s going on in our inner life,” said Ms. Brach.</p>,\n",
       " <p>You don’t need to spend a dime to get started. <strong>All you need is somewhere to sit, and a little willpower.</strong> That said, there are plenty of <a href=\"http://www.dharmacrafts.com/100xCU/Meditation-Cushions.html\" target=\"_blank\"><ins>meditation cushions</ins></a>, <a href=\"http://www.dharmacrafts.com/100xMB/Meditation-Benches.html\" target=\"_blank\"><ins>stools</ins></a> and <a href=\"http://www.dharmacrafts.com/102xDR/Meditation-Room.html\" target=\"_blank\"><ins>other accessories</ins></a> for those who want to get kitted out. But a comfortable chair, or a soft rug in a quiet corner, is really all you need.</p>,\n",
       " <p>Expand your practice.</p>,\n",
       " <p>Once you’re comfortable with sitting meditation and the body scan, you might want to try walking meditation. There’s no rule against trying walking meditation first, but it’s useful to learn the basics before you try to walk and meditate at the same time.</p>,\n",
       " <p>Your browser does not support the <code>audio</code> element.</p>,\n",
       " <p class=\"current-time\">0:00</p>,\n",
       " <p class=\"total-time\">0:00</p>,\n",
       " <p>Another illuminating exercise to try is mindful eating. Instead of wolfing down whatever is on the menu, make the time and space to give the experience your full attention. You can do this when you’re eating any meal alone. Or, find some time to experiment with mindful eating using a simple food, like a raisin or an apple.</p>,\n",
       " <p>Your browser does not support the <code>audio</code> element.</p>,\n",
       " <p class=\"current-time\">0:00</p>,\n",
       " <p class=\"total-time\">0:00</p>,\n",
       " <p>Not only is mindful eating a valuable (and often enjoyable) exercise that can reveal a whole new world of interesting sensory experiences, but some studies suggest that it can lead to weight loss. When we <a href=\"http://www.health.harvard.edu/healthbeat/mindful-eating-may-help-with-weight-loss\" target=\"_blank\"><ins>pay closer attention to how hungry we are</ins></a>, and what we’re eating, it turns out we often eat less.</p>,\n",
       " <p>Take time to acknowledge every aspect of the eating experience, and your reactions to it. Notice how you feel as you sit down for a meal. Are you hungry? Is your mouth watering?</p>,\n",
       " <p>Take a close look at the food. What does it look like? Inspect it carefully. Is it warm or cold? What does it smell like? Does it make a sound when you hold it?</p>,\n",
       " <p>As you prepare to take your first bite, pay close attention to your own reactions. More salivating? Are you already thinking about the next bite?</p>,\n",
       " <p>When the food hits your tongue, what happens? Notice the impulse to chew. Are you already inclined to swallow and take the next bite?</p>,\n",
       " <p>How does the feeling of the food change as it gets chewed? What does it feel like as it makes its way down your throat? Can you feel it in your stomach?</p>,\n",
       " <p>Take your time. When you’ve completely finished one bite, move on to the next, again noticing everything you can about the experience — from the tastes, smells and physical sensations, to your own desires, reactions and impulses.</p>,\n",
       " <p>Take a moment to be more mindful with Meditation Journeys, an immersive VR experience from the New York Times. Throughout each of four journeys, meditation coach Mark Coleman guides you through nature meditations.</p>,\n",
       " <p>COOKING</p>,\n",
       " <p>COOKING</p>,\n",
       " <p>COOKING</p>,\n",
       " <p>COOKING</p>,\n",
       " <p class=\"leadin\">Get the best of Well, with the latest on health, fitness and nutrition, delivered to your inbox every week.</p>,\n",
       " <p><a href=\"https://www.nytimes.com/newsletters/sample/well\" rel=\"noopener noreferrer\" target=\"_blank\">See sample</a><span class=\"g-newsletter-link-pipe\"> | </span><a href=\"https://www.nytimes.com/content/help/rights/privacy/policy/privacy-policy.html\" rel=\"noopener noreferrer\" target=\"_blank\">Privacy Policy</a><span class=\"g-newsletter-link-pipe\"> | </span>Opt out or <a href=\"https://www.nytimes.com/help/index.html\" rel=\"noopener noreferrer\" target=\"_blank\">contact us</a> anytime</p>,\n",
       " <p>Meditation only looks simple. It can be surprisingly difficult — and that doesn’t mean you’re failing.</p>,\n",
       " <p>It’s important to approach your new meditation practice with a healthy outlook. Try to be relaxed, curious and friendly. Staying in touch with these qualities will be useful as you encounter some of the inevitable ups and downs of meditation. If you find yourself striving too hard or criticizing yourself, take a few deep breaths and give yourself permission to relax and take it easy. Remember, the purpose of meditation isn’t to achieve perfect control over your mind or stop thinking altogether. <strong>The intention should be to bring a more compassionate, calm and accepting approach to whatever happens.</strong> “In order to see clearly what’s in the present moment, there has to be a nonjudging, open and allowing presence,” said Ms. Brach. “A space that is friendly and warm and accepting.”</p>,\n",
       " <p><strong>Basic mindfulness meditation is very simple, even if it isn’t always easy to do.</strong> More than anything else, it requires a commitment. “Admiring the idea of meditation doesn’t really do anything,” said Sharon Salzberg, <a href=\"http://www.sharonsalzberg.com/\" target=\"_blank\"><ins>who has taught mindfulness meditation for more than 40 years.</ins></a></p>,\n",
       " <p>And remember, mindfulness and meditation are not panaceas. Thoughts won’t disappear. Difficult emotions may come up. When you start meditating — especially early on — it may feel impossible to stay focused. But in time, it will get easier.</p>,\n",
       " <p>As you begin, rather than trying to achieve some out-of-body experience, see what it feels like to just hang out in the present moment, noticing your physical sensations, thoughts and emotions. “The ideal thing is to just be present with what’s going on,” said Ms. Brach. “Put aside all expectation and judgment about what’s going to happen.”</p>,\n",
       " <p><strong>Self-Criticism:</strong> When we begin meditating, it’s all too common to beat up on ourselves. <em>I’m doing it wrong! I’m not a good meditator! I’ll never be able to follow my breath!</em> Most everyone who has tried to meditate has experienced some version of this self-doubt. Though it’s natural impulse, it’s not helpful. Remember, the purpose of meditation isn’t to enter a bliss state or eradicate all thinking. It’s simply to be present with what’s going on right now, whatever that is. Try to let go of any judgments you have about good meditation or bad meditation, and whether or not you’ve achieved anything. We all have the capacity for clarity, for calm and for mindfulness.</p>,\n",
       " <p><strong>Sleepiness:</strong> Many people get sleepy when they try to meditate. This may be because our minds are simply overstimulated, or it may be because our bodies are tired and need some rest. Either way, there are skillful ways to wake ourselves up so we can engage in meditation. Straighten your posture. Open your eyes. Try walking meditation. Instead of using your breath as the anchor of your attention, try listening to sounds. Or, develop a pattern of sensations to focus on: for example, first the feeling of breath passing in and out of your nostrils, then the diaphragm rising and falling, and then the gentle breeze of air just above your lips.</p>,\n",
       " <p><strong>Restlessness:</strong> We’re so used to keeping busy, that meditation can seem boring at first. If that’s the case, try focusing on very specific sensations, like the outbreath. You can even try to control your breathing, taking shorter inbreaths and longer outbreaths. Most importantly, try not to be too hard on yourself.</p>,\n",
       " <p><strong>Pain:</strong> You may feel pain when you begin to practice meditation for longer durations. It could be just a sharp, fleeting pang in your legs, or it could be dull cramps or aches in your back. Whatever it is, try to simply notice it and accept it at first. Acknowledge that it’s a feeling, just like any other feeling, and that it will eventually pass. If it persists, try directing your attention to another part of the body. And if the pain gets intolerable, adjust your posture as needed.</p>,\n",
       " <p><strong>Fear:</strong> In the rare instance, panic or fear may arise. Should this happen, try to shift the attention toward something outside the body, like the air whooshing in and out of your nostrils, or sounds. But don’t force yourself to pay close attention to whatever it is that might be causing you emotional discomfort. And if it’s too intense, don’t worry about opening your eyes, or just taking a break. </p>,\n",
       " <p>Classes, apps and more.</p>,\n",
       " <p>With mindfulness now mainstream, resources abound to help people maintain and deepen their practice. <a href=\"http://www.mindful.org/\" target=\"_blank\"><ins>Mindful</ins></a> publishes a bi-montly magazine and maintains a robust website full of stories and instructions. Ms. Salzberg has <a href=\"http://www.sharonsalzberg.com/category/books/\" target=\"_blank\"><ins>published several books</ins></a> on mindfulness, <a href=\"https://www.tarabrach.com/books-cds/\" target=\"_blank\"><ins>as has Ms. Brach</ins></a>. And there are <a href=\"https://www.eomega.org/article/12-essential-books-on-mindfulness\" target=\"_blank\"><ins>dozens of other good books</ins></a> on the topic.</p>,\n",
       " <p>Practicing on your own is great, but there’s nothing like a good teacher and a community to support your practice. Just as listening to a teacher can help you stay focused when the mind wanders, finding a group to practice with can help make meditation part of your routine.</p>,\n",
       " <p><a href=\"http://www.umassmed.edu/cfm/stress-reduction/\" target=\"_blank\"><ins>Mindfulness Based Stress Reduction</ins></a> is an eight-week course that has emerged as one of the most popular introductions to meditation today. MBSR classes and other basic introductions to meditation are offered in hundreds of cities around the globe, and many other meditation centers provide mindfulness training as well. Mindful has also pulled together a list of centers <a href=\"http://www.mindful.org/resources/cat/mindfulness-centers-programs/\" target=\"_blank\"><ins>here</ins></a>.</p>,\n",
       " <p>There are several apps that can help you maintain a meditation practice. Here are a few of our favorite.</p>,\n",
       " <p><a href=\"https://itunes.apple.com/us/app/meditation-for-fidgety-skeptics/id992210239\" target=\"“10%\"><ins><strong>10% Happier</strong></ins></a></p>,\n",
       " <p>Geared for those skeptical of meditation, this app features Dan Harris, an ABC news anchor who wrote a book about his grudging embrace of meditation, in dialogue with experienced mindfulness instructors like Joseph Goldstein.</p>,\n",
       " <p><a href=\"https://itunes.apple.com/us/app/headspace-guided-meditation/id493145008\" target=\"“Headspace”\"><strong>Headspace</strong></a></p>,\n",
       " <p>Andy Puddicombe, a charismatic Englishman who was previously both a monk and a circus performer, is the teacher on this popular meditation app.</p>,\n",
       " <p><a href=\"https://itunes.apple.com/us/app/whil/id975376798\" target=\"“Whil”\"><strong>Whil</strong></a></p>,\n",
       " <p>With contributions from several mindfulness teachers, Whil includes audio and video instructions are available for beginners and experts alike.</p>,\n",
       " <p><a href=\"https://itunes.apple.com/us/app/insight-timer-meditation-timer/id337472899\" target=\"“Insight\"><strong>Insight Timer</strong></a></p>,\n",
       " <p>A handy tool to time your meditations, and share your practice with friends.</p>,\n",
       " <p>November 14, 2015</p>,\n",
       " <p>March 19, 2016</p>,\n",
       " <p>February 2, 2016</p>,\n",
       " <p>March 18, 2016</p>,\n",
       " <p>David Gelles is a reporter for The New York Times and author of \"Mindful Work: How Meditation Is Changing Business From the Inside Out.\" He has been practicing mindfulness and meditation for nearly 20 years.</p>,\n",
       " <p class=\"author-social\">Twitter: <a href=\"https://www.twitter.com/dgelles\" rel=\"noreferrer noopener\" target=\"_blank\">@<!-- -->dgelles</a></p>]"
      ]
     },
     "execution_count": 165,
     "metadata": {},
     "output_type": "execute_result"
    }
   ],
   "source": [
    "# Find data tagged with </p>, output is contained in square brackets [ ], a Python list \n",
    "soup.find_all('p')"
   ]
  },
  {
   "cell_type": "code",
   "execution_count": 85,
   "metadata": {},
   "outputs": [
    {
     "data": {
      "text/plain": [
       "'Illustrations by Sam Kalda'"
      ]
     },
     "execution_count": 85,
     "metadata": {},
     "output_type": "execute_result"
    }
   ],
   "source": [
    "# get the fourth <p> element)\n",
    "soup.find_all('p')[3].get_text()"
   ]
  },
  {
   "cell_type": "code",
   "execution_count": 83,
   "metadata": {},
   "outputs": [
    {
     "data": {
      "text/plain": [
       "'Meditation is a simple practice available to all, which can reduce stress, increase calmness and clarity and promote happiness. Learning how to meditate is straightforward, and the benefits can come quickly. Here, we offer basic tips to get you started on a path toward greater equanimity, acceptance and joy. Take a deep breath, and get ready to relax.'"
      ]
     },
     "execution_count": 83,
     "metadata": {},
     "output_type": "execute_result"
    }
   ],
   "source": [
    "# Find the 1st text body from the web scraping\n",
    "soup.find(class_=\"text-container\").get_text()"
   ]
  },
  {
   "cell_type": "code",
   "execution_count": 117,
   "metadata": {},
   "outputs": [
    {
     "data": {
      "text/plain": [
       "[<div class=\"text-container\"><div><p>Meditation is a simple practice available to all, which can reduce stress, increase calmness and clarity and promote happiness. Learning how to meditate is straightforward, and the benefits can come quickly. Here, we offer basic tips to get you started on a path toward greater equanimity, acceptance and joy. Take a deep breath, and get ready to relax.</p></div></div>,\n",
       " <div class=\"text-container\"><div><p>Setting aside time for formal meditation is an important way to establish a routine and get comfortable with the practice. <strong>Even just a few minutes a day can make a big difference.</strong></p>\n",
       " <p>“Some people complain about taking time out of their day,” said Atman Smith, who teaches meditation to underserved communities in Baltimore. “Practice is important though. It’s a tool you can use to bring yourself back to the present in stressful situations.”</p>\n",
       " <p>But we shouldn’t stop being mindful when we stop meditating. “The purpose of mindfulness meditation is to become mindful throughout all parts of our life, so that we’re awake, present and openhearted in everything we do,” said Tara Brach, <a href=\"https://www.tarabrach.com/\" target=\"_blank\"><u>a popular meditation teacher based near Washington, D.C.</u></a> “Not just when we’re sitting on the cushion.”</p>\n",
       " <p>Mindfulness meditation isn’t about letting your thoughts wander. But it isn’t about trying to empty your mind, either. Instead, the practice involves paying close attention to the present moment — especially our own thoughts, emotions and sensations — whatever it is that’s happening.</p>\n",
       " <p>In addition to basic meditation instructions, we’ve compiled guided meditations for a few popular exercises including the body scan, walking meditation and mindful eating. “Each of the applied mindfulness practices brings alive an experience that might otherwise be more automatic,” said Ms. Brach.</p>\n",
       " <p>Though meditating on your own is an essential part of a complete practice, the steady guidance of an experienced teacher can be invaluable, especially as you’re getting started. Our minds wander so easily, and the clear instructions of a teacher can help bring us back to the present moment.</p></div></div>,\n",
       " <div class=\"text-container\"><div><p>It’s inevitable: During meditation, your mind will roam. You may notice other sensations in the body, things happening around you, or just get lost in thought, daydreaming about the past or present, possibly judging yourself or others.</p>\n",
       " <p>There’s nothing wrong with this — thinking is just as natural as breathing. “It’s the natural conditioning of the mind to wander,” said Ms. Brach.</p>\n",
       " <p><strong>When this happens, simply notice what it is you were thinking about or what was distracting you, then take a moment and pause.</strong></p>\n",
       " <p>You don’t need to pull your attention right back to the breath. Instead, let go of whatever it was you were thinking about, reopen your attention, then gently return your awareness to the breath, being present for each inhalation and exhalation.</p>\n",
       " <p>“Don’t just drag the mind back to the breath,” said Ms. Brach. “Instead reopen the attention, then gently come and land again.”</p>\n",
       " <p>After a few breaths, invariably, the mind will wander again. Don’t beat yourself up about this. It’s natural. What’s important is how we respond when it happens. Simply acknowledge whatever it is you were thinking of — without ascribing too much judgment to it, without letting it carry you away — and take a moment to come back to the present, and resume your meditation.</p>\n",
       " <p>“Where we build our skill is in the practice of coming back,” said Ms. Brach. “Coming back again and again. Notice it — <em>thinking</em> — and then pause, and then come back to the present moment.”</p></div></div>,\n",
       " <div class=\"text-container\"><div><p>You can practice mindfulness meditation on your own anytime and anywhere. But <strong>listening to basic guided meditations can also be helpful, especially when getting started.</strong> Instructions from an experienced teacher can help remind us to come back to the present moment, let go of distracting thoughts and not be so hard on ourselves.</p>\n",
       " <p>Here are four guided meditations you can listen to that will help you remain in the present moment. Choose the one that’s the right length for you: One minute is a great place to start but also good if you simply don’t have a lot of time. If you’re more experienced or ready for an extended mindfulness session, try the 10- or 15-minute sessions. You can download these tracks and listen to them when you’re ready to meditate.</p></div></div>,\n",
       " <div class=\"text-container\"><div><p><br/></p>\n",
       " <p>Start at the top of your head. Slowly and deliberately, bring your attention to the surface of your skin, one inch at a time. See if you can feel your scalp, your ears, your eyelids and your nose. Continue in this manner, moving across the face, over the ears, down the neck and shoulders and all the way down to your toes.</p>\n",
       " <p>At first, it might seem as if you don’t feel anything at all. But as you progress, you might begin to notice a whole world of new sensations. Some of the feelings might be pleasant, a gentle warmth, a comfortable weight. Some feelings might be neutral — tingling or itching. And some might be unpleasant. Your feet might feel soreness somewhere.</p>\n",
       " <p>Whatever the sensation is, just note it. If you need to move to relieve real pain, do so. But try not to react — labeling the experience good or bad — even if it’s unpleasant. Instead, just acknowledge what it is you’re feeling, and continue with the body scan. And of course, if you realize your mind has wandered, simply note the thought, and return your attention to the body.</p></div></div>,\n",
       " <div class=\"text-container\"><div><p>Put most simply, <strong>meditation is a way to train the mind.</strong> Most of the time, our minds are wandering — we’re thinking about the future, dwelling on the past, worrying, fantasizing, fretting or daydreaming. Meditation brings us back to the present moment, and gives us the tools we need to be less stressed, calmer and kinder to ourselves and others.</p>\n",
       " <p>“Meditation is a training of our attention,” Ms. Brach said. “It allows us to step out of distracted thought, and helps us arrive in the present moment in a balanced and clear way.”</p></div></div>,\n",
       " <div class=\"text-container\"><div><p>There are lots of different types of meditation. Most religions have contemplative traditions, and there are plenty of secular ways to meditate, too. But in recent years, mindfulness meditation has become increasingly popular.</p>\n",
       " <p>Basic mindfulness meditation is the practice of paying attention to the present moment with an accepting, nonjudgmental disposition. <strong>The goal isn’t to stop thinking, or to empty the mind.</strong> Rather, the point is to pay close attention to your physical sensations, thoughts and emotions in order to see them more clearly, without making so many assumptions, or making up stories.</p>\n",
       " <p>It’s a deceptively simple exercise — just be right here, right now, without daydreaming. But with practice it can yield profound results, giving us greater control of our actions, and making room for more kindness and equanimity, even in difficult situations. With time, mindfulness meditation can even help us better understand what causes us stress, and what we can do to relieve it.</p>\n",
       " <p>Though mindfulness meditation was inspired by Buddhist practices, today it is available as a wholly secular practice that emphasizes stress reduction, the cultivation of focus and the development of tranquility.</p>\n",
       " <p>“There’s a misconception that mindfulness is religious,” said Mr. Smith. “What we have to explain is that it’s a stress reduction technique and a way to get yourself stronger mentally. It’s a self-care practice.”</p>\n",
       " <p>There’s a large and growing body of research identifying the measurable effects of mindfulness on the body and brain, and it is catching on in professional settings including education, sports, business and even the military.</p></div></div>,\n",
       " <div class=\"text-container\"><div><p>Though the words are sometimes used interchangeably, it’s useful to draw a distinction between mindfulness and meditation.</p>\n",
       " <p><strong>Mindfulness is a quality of being</strong> — the experience of being open and aware in the present moment, without reflexive judgment, automatic criticism or mind wandering.</p>\n",
       " <p>Mindfulness meditation is the practice of actually being present in the moment, which in turn trains us to become more mindful throughout the day, particularly during difficult situations.</p>\n",
       " <p>As Ms. Brach puts it: “Mindfulness is your awareness of what’s going on in the present moment without any judgment. Meditation is the training of attention which cultivates that mindfulness.”</p>\n",
       " <p>Mindfulness meditation isn’t the only way to meditate. Transcendental Meditation, which aims to promote a state of relaxed awareness through the recitation of a mantra, is also popular these days. But in this guide, we’re focused on mindfulness, which is increasingly popular and easy to learn.</p></div></div>,\n",
       " <div class=\"text-container\"><div><p>Just like any habit, meditation gets easier to do if it’s part of your routine. <strong>Choose a time to do it each day and try to stick with it.</strong> For many people, it’s easiest to meditate first thing in the morning. But whether it’s at lunch, after work, or before you go to bed, see if you can be consistent. “Start by setting aside time each day,” said Ms. Brach. “Just like physical exercise, to develop a habit of practice means being regular.”</p></div></div>,\n",
       " <div class=\"text-container\"><div><p>Similarly, it can help to meditate in the same location each day. This isn’t essential, but it can help minimize the potential for distractions and mind wandering. It’s not necessary to fold your legs into lotus position, or even sit on the floor. <strong>Just find a comfortable position where you can sit upright, and where you won’t be too distracted.</strong> “The important thing is that we’re committing a little bit of time to come into stillness and simply pay attention to what’s going on in our inner life,” said Ms. Brach.</p></div></div>,\n",
       " <div class=\"text-container\"><div><p>You don’t need to spend a dime to get started. <strong>All you need is somewhere to sit, and a little willpower.</strong> That said, there are plenty of <a href=\"http://www.dharmacrafts.com/100xCU/Meditation-Cushions.html\" target=\"_blank\"><ins>meditation cushions</ins></a>, <a href=\"http://www.dharmacrafts.com/100xMB/Meditation-Benches.html\" target=\"_blank\"><ins>stools</ins></a> and <a href=\"http://www.dharmacrafts.com/102xDR/Meditation-Room.html\" target=\"_blank\"><ins>other accessories</ins></a> for those who want to get kitted out. But a comfortable chair, or a soft rug in a quiet corner, is really all you need.</p></div></div>,\n",
       " <div class=\"text-container\"><div><p>Once you’re comfortable with sitting meditation and the body scan, you might want to try walking meditation. There’s no rule against trying walking meditation first, but it’s useful to learn the basics before you try to walk and meditate at the same time.</p></div></div>,\n",
       " <div class=\"text-container\"><div><p>Not only is mindful eating a valuable (and often enjoyable) exercise that can reveal a whole new world of interesting sensory experiences, but some studies suggest that it can lead to weight loss. When we <a href=\"http://www.health.harvard.edu/healthbeat/mindful-eating-may-help-with-weight-loss\" target=\"_blank\"><ins>pay closer attention to how hungry we are</ins></a>, and what we’re eating, it turns out we often eat less.</p>\n",
       " <p>Take time to acknowledge every aspect of the eating experience, and your reactions to it. Notice how you feel as you sit down for a meal. Are you hungry? Is your mouth watering?</p>\n",
       " <p>Take a close look at the food. What does it look like? Inspect it carefully. Is it warm or cold? What does it smell like? Does it make a sound when you hold it?</p>\n",
       " <p>As you prepare to take your first bite, pay close attention to your own reactions. More salivating? Are you already thinking about the next bite?</p>\n",
       " <p>When the food hits your tongue, what happens? Notice the impulse to chew. Are you already inclined to swallow and take the next bite?</p>\n",
       " <p>How does the feeling of the food change as it gets chewed? What does it feel like as it makes its way down your throat? Can you feel it in your stomach?</p>\n",
       " <p>Take your time. When you’ve completely finished one bite, move on to the next, again noticing everything you can about the experience — from the tastes, smells and physical sensations, to your own desires, reactions and impulses.</p></div></div>,\n",
       " <div class=\"text-container\"><div><p>It’s important to approach your new meditation practice with a healthy outlook. Try to be relaxed, curious and friendly. Staying in touch with these qualities will be useful as you encounter some of the inevitable ups and downs of meditation. If you find yourself striving too hard or criticizing yourself, take a few deep breaths and give yourself permission to relax and take it easy. Remember, the purpose of meditation isn’t to achieve perfect control over your mind or stop thinking altogether. <strong>The intention should be to bring a more compassionate, calm and accepting approach to whatever happens.</strong> “In order to see clearly what’s in the present moment, there has to be a nonjudging, open and allowing presence,” said Ms. Brach. “A space that is friendly and warm and accepting.”</p></div></div>,\n",
       " <div class=\"text-container\"><div><p><strong>Basic mindfulness meditation is very simple, even if it isn’t always easy to do.</strong> More than anything else, it requires a commitment. “Admiring the idea of meditation doesn’t really do anything,” said Sharon Salzberg, <a href=\"http://www.sharonsalzberg.com/\" target=\"_blank\"><ins>who has taught mindfulness meditation for more than 40 years.</ins></a></p>\n",
       " <p>And remember, mindfulness and meditation are not panaceas. Thoughts won’t disappear. Difficult emotions may come up. When you start meditating — especially early on — it may feel impossible to stay focused. But in time, it will get easier.</p>\n",
       " <p>As you begin, rather than trying to achieve some out-of-body experience, see what it feels like to just hang out in the present moment, noticing your physical sensations, thoughts and emotions. “The ideal thing is to just be present with what’s going on,” said Ms. Brach. “Put aside all expectation and judgment about what’s going to happen.”</p></div></div>,\n",
       " <div class=\"text-container\"><div><p><strong>Self-Criticism:</strong> When we begin meditating, it’s all too common to beat up on ourselves. <em>I’m doing it wrong! I’m not a good meditator! I’ll never be able to follow my breath!</em> Most everyone who has tried to meditate has experienced some version of this self-doubt. Though it’s natural impulse, it’s not helpful. Remember, the purpose of meditation isn’t to enter a bliss state or eradicate all thinking. It’s simply to be present with what’s going on right now, whatever that is. Try to let go of any judgments you have about good meditation or bad meditation, and whether or not you’ve achieved anything. We all have the capacity for clarity, for calm and for mindfulness.</p>\n",
       " <p><strong>Sleepiness:</strong> Many people get sleepy when they try to meditate. This may be because our minds are simply overstimulated, or it may be because our bodies are tired and need some rest. Either way, there are skillful ways to wake ourselves up so we can engage in meditation. Straighten your posture. Open your eyes. Try walking meditation. Instead of using your breath as the anchor of your attention, try listening to sounds. Or, develop a pattern of sensations to focus on: for example, first the feeling of breath passing in and out of your nostrils, then the diaphragm rising and falling, and then the gentle breeze of air just above your lips.</p>\n",
       " <p><strong>Restlessness:</strong> We’re so used to keeping busy, that meditation can seem boring at first. If that’s the case, try focusing on very specific sensations, like the outbreath. You can even try to control your breathing, taking shorter inbreaths and longer outbreaths. Most importantly, try not to be too hard on yourself.</p>\n",
       " <p><strong>Pain:</strong> You may feel pain when you begin to practice meditation for longer durations. It could be just a sharp, fleeting pang in your legs, or it could be dull cramps or aches in your back. Whatever it is, try to simply notice it and accept it at first. Acknowledge that it’s a feeling, just like any other feeling, and that it will eventually pass. If it persists, try directing your attention to another part of the body. And if the pain gets intolerable, adjust your posture as needed.</p>\n",
       " <p><strong>Fear:</strong> In the rare instance, panic or fear may arise. Should this happen, try to shift the attention toward something outside the body, like the air whooshing in and out of your nostrils, or sounds. But don’t force yourself to pay close attention to whatever it is that might be causing you emotional discomfort. And if it’s too intense, don’t worry about opening your eyes, or just taking a break. </p></div></div>,\n",
       " <div class=\"text-container\"><div><p>With mindfulness now mainstream, resources abound to help people maintain and deepen their practice. <a href=\"http://www.mindful.org/\" target=\"_blank\"><ins>Mindful</ins></a> publishes a bi-montly magazine and maintains a robust website full of stories and instructions. Ms. Salzberg has <a href=\"http://www.sharonsalzberg.com/category/books/\" target=\"_blank\"><ins>published several books</ins></a> on mindfulness, <a href=\"https://www.tarabrach.com/books-cds/\" target=\"_blank\"><ins>as has Ms. Brach</ins></a>. And there are <a href=\"https://www.eomega.org/article/12-essential-books-on-mindfulness\" target=\"_blank\"><ins>dozens of other good books</ins></a> on the topic.</p></div></div>,\n",
       " <div class=\"text-container\"><div><p>Practicing on your own is great, but there’s nothing like a good teacher and a community to support your practice. Just as listening to a teacher can help you stay focused when the mind wanders, finding a group to practice with can help make meditation part of your routine.</p>\n",
       " <p><a href=\"http://www.umassmed.edu/cfm/stress-reduction/\" target=\"_blank\"><ins>Mindfulness Based Stress Reduction</ins></a> is an eight-week course that has emerged as one of the most popular introductions to meditation today. MBSR classes and other basic introductions to meditation are offered in hundreds of cities around the globe, and many other meditation centers provide mindfulness training as well. Mindful has also pulled together a list of centers <a href=\"http://www.mindful.org/resources/cat/mindfulness-centers-programs/\" target=\"_blank\"><ins>here</ins></a>.</p></div></div>,\n",
       " <div class=\"text-container\"><div><p>There are several apps that can help you maintain a meditation practice. Here are a few of our favorite.</p></div></div>]"
      ]
     },
     "execution_count": 117,
     "metadata": {},
     "output_type": "execute_result"
    }
   ],
   "source": [
    "# find_all method will return all instances of a given class .\n",
    "soup.find_all(class_=\"text-container\")"
   ]
  },
  {
   "cell_type": "code",
   "execution_count": 123,
   "metadata": {},
   "outputs": [
    {
     "data": {
      "text/plain": [
       "'Meditation is a simple practice available to all, which can reduce stress, increase calmness and clarity and promote happiness. Learning how to meditate is straightforward, and the benefits can come quickly. Here, we offer basic tips to get you started on a path toward greater equanimity, acceptance and joy. Take a deep breath, and get ready to relax. Setting aside time for formal meditation is an important way to establish a routine and get comfortable with the practice. Even just a few minutes a day can make a big difference.\\n“Some people complain about taking time out of their day,” said Atman Smith, who teaches meditation to underserved communities in Baltimore. “Practice is important though. It’s a tool you can use to bring yourself back to the present in stressful situations.”\\nBut we shouldn’t stop being mindful when we stop meditating. “The purpose of mindfulness meditation is to become mindful throughout all parts of our life, so that we’re awake, present and openhearted in everything we do,” said Tara Brach, a popular meditation teacher based near Washington, D.C. “Not just when we’re sitting on the cushion.”\\nMindfulness meditation isn’t about letting your thoughts wander. But it isn’t about trying to empty your mind, either. Instead, the practice involves paying close attention to the present moment — especially our own thoughts, emotions and sensations — whatever it is that’s happening.\\nIn addition to basic meditation instructions, we’ve compiled guided meditations for a few popular exercises including the body scan, walking meditation and mindful eating. “Each of the applied mindfulness practices brings alive an experience that might otherwise be more automatic,” said Ms. Brach.\\nThough meditating on your own is an essential part of a complete practice, the steady guidance of an experienced teacher can be invaluable, especially as you’re getting started. Our minds wander so easily, and the clear instructions of a teacher can help bring us back to the present moment. It’s inevitable: During meditation, your mind will roam. You may notice other sensations in the body, things happening around you, or just get lost in thought, daydreaming about the past or present, possibly judging yourself or others.\\nThere’s nothing wrong with this — thinking is just as natural as breathing. “It’s the natural conditioning of the mind to wander,” said Ms. Brach.\\nWhen this happens, simply notice what it is you were thinking about or what was distracting you, then take a moment and pause.\\nYou don’t need to pull your attention right back to the breath. Instead, let go of whatever it was you were thinking about, reopen your attention, then gently return your awareness to the breath, being present for each inhalation and exhalation.\\n“Don’t just drag the mind back to the breath,” said Ms. Brach. “Instead reopen the attention, then gently come and land again.”\\nAfter a few breaths, invariably, the mind will wander again. Don’t beat yourself up about this. It’s natural. What’s important is how we respond when it happens. Simply acknowledge whatever it is you were thinking of — without ascribing too much judgment to it, without letting it carry you away — and take a moment to come back to the present, and resume your meditation.\\n“Where we build our skill is in the practice of coming back,” said Ms. Brach. “Coming back again and again. Notice it — thinking — and then pause, and then come back to the present moment.” You can practice mindfulness meditation on your own anytime and anywhere. But listening to basic guided meditations can also be helpful, especially when getting started. Instructions from an experienced teacher can help remind us to come back to the present moment, let go of distracting thoughts and not be so hard on ourselves.\\nHere are four guided meditations you can listen to that will help you remain in the present moment. Choose the one that’s the right length for you: One minute is a great place to start but also good if you simply don’t have a lot of time. If you’re more experienced or ready for an extended mindfulness session, try the 10- or 15-minute sessions. You can download these tracks and listen to them when you’re ready to meditate. \\nStart at the top of your head. Slowly and deliberately, bring your attention to the surface of your skin, one inch at a time. See if you can feel your scalp, your ears, your eyelids and your nose. Continue in this manner, moving across the face, over the ears, down the neck and shoulders and all the way down to your toes.\\nAt first, it might seem as if you don’t feel anything at all. But as you progress, you might begin to notice a whole world of new sensations. Some of the feelings might be pleasant, a gentle warmth, a comfortable weight. Some feelings might be neutral — tingling or itching. And some might be unpleasant. Your feet might feel soreness somewhere.\\nWhatever the sensation is, just note it. If you need to move to relieve real pain, do so. But try not to react — labeling the experience good or bad — even if it’s unpleasant. Instead, just acknowledge what it is you’re feeling, and continue with the body scan. And of course, if you realize your mind has wandered, simply note the thought, and return your attention to the body. Put most simply, meditation is a way to train the mind. Most of the time, our minds are wandering — we’re thinking about the future, dwelling on the past, worrying, fantasizing, fretting or daydreaming. Meditation brings us back to the present moment, and gives us the tools we need to be less stressed, calmer and kinder to ourselves and others.\\n“Meditation is a training of our attention,” Ms. Brach said. “It allows us to step out of distracted thought, and helps us arrive in the present moment in a balanced and clear way.” There are lots of different types of meditation. Most religions have contemplative traditions, and there are plenty of secular ways to meditate, too. But in recent years, mindfulness meditation has become increasingly popular.\\nBasic mindfulness meditation is the practice of paying attention to the present moment with an accepting, nonjudgmental disposition. The goal isn’t to stop thinking, or to empty the mind. Rather, the point is to pay close attention to your physical sensations, thoughts and emotions in order to see them more clearly, without making so many assumptions, or making up stories.\\nIt’s a deceptively simple exercise — just be right here, right now, without daydreaming. But with practice it can yield profound results, giving us greater control of our actions, and making room for more kindness and equanimity, even in difficult situations. With time, mindfulness meditation can even help us better understand what causes us stress, and what we can do to relieve it.\\nThough mindfulness meditation was inspired by Buddhist practices, today it is available as a wholly secular practice that emphasizes stress reduction, the cultivation of focus and the development of tranquility.\\n“There’s a misconception that mindfulness is religious,” said Mr. Smith. “What we have to explain is that it’s a stress reduction technique and a way to get yourself stronger mentally. It’s a self-care practice.”\\nThere’s a large and growing body of research identifying the measurable effects of mindfulness on the body and brain, and it is catching on in professional settings including education, sports, business and even the military. Though the words are sometimes used interchangeably, it’s useful to draw a distinction between mindfulness and meditation.\\nMindfulness is a quality of being — the experience of being open and aware in the present moment, without reflexive judgment, automatic criticism or mind wandering.\\nMindfulness meditation is the practice of actually being present in the moment, which in turn trains us to become more mindful throughout the day, particularly during difficult situations.\\nAs Ms. Brach puts it: “Mindfulness is your awareness of what’s going on in the present moment without any judgment. Meditation is the training of attention which cultivates that mindfulness.”\\nMindfulness meditation isn’t the only way to meditate. Transcendental Meditation, which aims to promote a state of relaxed awareness through the recitation of a mantra, is also popular these days. But in this guide, we’re focused on mindfulness, which is increasingly popular and easy to learn. Just like any habit, meditation gets easier to do if it’s part of your routine. Choose a time to do it each day and try to stick with it. For many people, it’s easiest to meditate first thing in the morning. But whether it’s at lunch, after work, or before you go to bed, see if you can be consistent. “Start by setting aside time each day,” said Ms. Brach. “Just like physical exercise, to develop a habit of practice means being regular.” Similarly, it can help to meditate in the same location each day. This isn’t essential, but it can help minimize the potential for distractions and mind wandering. It’s not necessary to fold your legs into lotus position, or even sit on the floor. Just find a comfortable position where you can sit upright, and where you won’t be too distracted. “The important thing is that we’re committing a little bit of time to come into stillness and simply pay attention to what’s going on in our inner life,” said Ms. Brach. You don’t need to spend a dime to get started. All you need is somewhere to sit, and a little willpower. That said, there are plenty of meditation cushions, stools and other accessories for those who want to get kitted out. But a comfortable chair, or a soft rug in a quiet corner, is really all you need. Once you’re comfortable with sitting meditation and the body scan, you might want to try walking meditation. There’s no rule against trying walking meditation first, but it’s useful to learn the basics before you try to walk and meditate at the same time. Not only is mindful eating a valuable (and often enjoyable) exercise that can reveal a whole new world of interesting sensory experiences, but some studies suggest that it can lead to weight loss. When we pay closer attention to how hungry we are, and what we’re eating, it turns out we often eat less.\\nTake time to acknowledge every aspect of the eating experience, and your reactions to it. Notice how you feel as you sit down for a meal. Are you hungry  Is your mouth watering \\nTake a close look at the food. What does it look like  Inspect it carefully. Is it warm or cold  What does it smell like  Does it make a sound when you hold it \\nAs you prepare to take your first bite, pay close attention to your own reactions. More salivating  Are you already thinking about the next bite \\nWhen the food hits your tongue, what happens  Notice the impulse to chew. Are you already inclined to swallow and take the next bite \\nHow does the feeling of the food change as it gets chewed  What does it feel like as it makes its way down your throat  Can you feel it in your stomach \\nTake your time. When you’ve completely finished one bite, move on to the next, again noticing everything you can about the experience — from the tastes, smells and physical sensations, to your own desires, reactions and impulses. It’s important to approach your new meditation practice with a healthy outlook. Try to be relaxed, curious and friendly. Staying in touch with these qualities will be useful as you encounter some of the inevitable ups and downs of meditation. If you find yourself striving too hard or criticizing yourself, take a few deep breaths and give yourself permission to relax and take it easy. Remember, the purpose of meditation isn’t to achieve perfect control over your mind or stop thinking altogether. The intention should be to bring a more compassionate, calm and accepting approach to whatever happens. “In order to see clearly what’s in the present moment, there has to be a nonjudging, open and allowing presence,” said Ms. Brach. “A space that is friendly and warm and accepting.” Basic mindfulness meditation is very simple, even if it isn’t always easy to do. More than anything else, it requires a commitment. “Admiring the idea of meditation doesn’t really do anything,” said Sharon Salzberg, who has taught mindfulness meditation for more than 40 years.\\nAnd remember, mindfulness and meditation are not panaceas. Thoughts won’t disappear. Difficult emotions may come up. When you start meditating — especially early on — it may feel impossible to stay focused. But in time, it will get easier.\\nAs you begin, rather than trying to achieve some out-of-body experience, see what it feels like to just hang out in the present moment, noticing your physical sensations, thoughts and emotions. “The ideal thing is to just be present with what’s going on,” said Ms. Brach. “Put aside all expectation and judgment about what’s going to happen.” Self-Criticism: When we begin meditating, it’s all too common to beat up on ourselves. I’m doing it wrong! I’m not a good meditator! I’ll never be able to follow my breath! Most everyone who has tried to meditate has experienced some version of this self-doubt. Though it’s natural impulse, it’s not helpful. Remember, the purpose of meditation isn’t to enter a bliss state or eradicate all thinking. It’s simply to be present with what’s going on right now, whatever that is. Try to let go of any judgments you have about good meditation or bad meditation, and whether or not you’ve achieved anything. We all have the capacity for clarity, for calm and for mindfulness.\\nSleepiness: Many people get sleepy when they try to meditate. This may be because our minds are simply overstimulated, or it may be because our bodies are tired and need some rest. Either way, there are skillful ways to wake ourselves up so we can engage in meditation. Straighten your posture. Open your eyes. Try walking meditation. Instead of using your breath as the anchor of your attention, try listening to sounds. Or, develop a pattern of sensations to focus on: for example, first the feeling of breath passing in and out of your nostrils, then the diaphragm rising and falling, and then the gentle breeze of air just above your lips.\\nRestlessness: We’re so used to keeping busy, that meditation can seem boring at first. If that’s the case, try focusing on very specific sensations, like the outbreath. You can even try to control your breathing, taking shorter inbreaths and longer outbreaths. Most importantly, try not to be too hard on yourself.\\nPain: You may feel pain when you begin to practice meditation for longer durations. It could be just a sharp, fleeting pang in your legs, or it could be dull cramps or aches in your back. Whatever it is, try to simply notice it and accept it at first. Acknowledge that it’s a feeling, just like any other feeling, and that it will eventually pass. If it persists, try directing your attention to another part of the body. And if the pain gets intolerable, adjust your posture as needed.\\nFear: In the rare instance, panic or fear may arise. Should this happen, try to shift the attention toward something outside the body, like the air whooshing in and out of your nostrils, or sounds. But don’t force yourself to pay close attention to whatever it is that might be causing you emotional discomfort. And if it’s too intense, don’t worry about opening your eyes, or just taking a break.\\xa0 With mindfulness now mainstream, resources abound to help people maintain and deepen their practice. Mindful publishes a bi-montly magazine and maintains a robust website full of stories and instructions. Ms. Salzberg has published several books on mindfulness, as has Ms. Brach. And there are dozens of other good books on the topic. Practicing on your own is great, but there’s nothing like a good teacher and a community to support your practice. Just as listening to a teacher can help you stay focused when the mind wanders, finding a group to practice with can help make meditation part of your routine.\\nMindfulness Based Stress Reduction is an eight-week course that has emerged as one of the most popular introductions to meditation today. MBSR classes and other basic introductions to meditation are offered in hundreds of cities around the globe, and many other meditation centers provide mindfulness training as well. Mindful has also pulled together a list of centers here. There are several apps that can help you maintain a meditation practice. Here are a few of our favorite.'"
      ]
     },
     "execution_count": 123,
     "metadata": {},
     "output_type": "execute_result"
    }
   ],
   "source": [
    "# Joining all the sentences together\n",
    "article = ' '.join(map(lambda p: p.get_text().replace(\"?\",\" \"), soup.find_all(class_=\"text-container\")))\n",
    "article"
   ]
  },
  {
   "cell_type": "code",
   "execution_count": 122,
   "metadata": {},
   "outputs": [
    {
     "name": "stdout",
     "output_type": "stream",
     "text": [
      "['Meditation is a simple practice available to all, which can reduce stress, increase calmness and clarity and promote happiness. Learning how to meditate is straightforward, and the benefits can come quickly. Here, we offer basic tips to get you started on a path toward greater equanimity, acceptance and joy. Take a deep breath, and get ready to relax.', 'Setting aside time for formal meditation is an important way to establish a routine and get comfortable with the practice. Even just a few minutes a day can make a big difference.\\n“Some people complain about taking time out of their day,” said Atman Smith, who teaches meditation to underserved communities in Baltimore. “Practice is important though. It’s a tool you can use to bring yourself back to the present in stressful situations.”\\nBut we shouldn’t stop being mindful when we stop meditating. “The purpose of mindfulness meditation is to become mindful throughout all parts of our life, so that we’re awake, present and openhearted in everything we do,” said Tara Brach, a popular meditation teacher based near Washington, D.C. “Not just when we’re sitting on the cushion.”\\nMindfulness meditation isn’t about letting your thoughts wander. But it isn’t about trying to empty your mind, either. Instead, the practice involves paying close attention to the present moment — especially our own thoughts, emotions and sensations — whatever it is that’s happening.\\nIn addition to basic meditation instructions, we’ve compiled guided meditations for a few popular exercises including the body scan, walking meditation and mindful eating. “Each of the applied mindfulness practices brings alive an experience that might otherwise be more automatic,” said Ms. Brach.\\nThough meditating on your own is an essential part of a complete practice, the steady guidance of an experienced teacher can be invaluable, especially as you’re getting started. Our minds wander so easily, and the clear instructions of a teacher can help bring us back to the present moment.', 'It’s inevitable: During meditation, your mind will roam. You may notice other sensations in the body, things happening around you, or just get lost in thought, daydreaming about the past or present, possibly judging yourself or others.\\nThere’s nothing wrong with this — thinking is just as natural as breathing. “It’s the natural conditioning of the mind to wander,” said Ms. Brach.\\nWhen this happens, simply notice what it is you were thinking about or what was distracting you, then take a moment and pause.\\nYou don’t need to pull your attention right back to the breath. Instead, let go of whatever it was you were thinking about, reopen your attention, then gently return your awareness to the breath, being present for each inhalation and exhalation.\\n“Don’t just drag the mind back to the breath,” said Ms. Brach. “Instead reopen the attention, then gently come and land again.”\\nAfter a few breaths, invariably, the mind will wander again. Don’t beat yourself up about this. It’s natural. What’s important is how we respond when it happens. Simply acknowledge whatever it is you were thinking of — without ascribing too much judgment to it, without letting it carry you away — and take a moment to come back to the present, and resume your meditation.\\n“Where we build our skill is in the practice of coming back,” said Ms. Brach. “Coming back again and again. Notice it — thinking — and then pause, and then come back to the present moment.”', 'You can practice mindfulness meditation on your own anytime and anywhere. But listening to basic guided meditations can also be helpful, especially when getting started. Instructions from an experienced teacher can help remind us to come back to the present moment, let go of distracting thoughts and not be so hard on ourselves.\\nHere are four guided meditations you can listen to that will help you remain in the present moment. Choose the one that’s the right length for you: One minute is a great place to start but also good if you simply don’t have a lot of time. If you’re more experienced or ready for an extended mindfulness session, try the 10- or 15-minute sessions. You can download these tracks and listen to them when you’re ready to meditate.', '\\nStart at the top of your head. Slowly and deliberately, bring your attention to the surface of your skin, one inch at a time. See if you can feel your scalp, your ears, your eyelids and your nose. Continue in this manner, moving across the face, over the ears, down the neck and shoulders and all the way down to your toes.\\nAt first, it might seem as if you don’t feel anything at all. But as you progress, you might begin to notice a whole world of new sensations. Some of the feelings might be pleasant, a gentle warmth, a comfortable weight. Some feelings might be neutral — tingling or itching. And some might be unpleasant. Your feet might feel soreness somewhere.\\nWhatever the sensation is, just note it. If you need to move to relieve real pain, do so. But try not to react — labeling the experience good or bad — even if it’s unpleasant. Instead, just acknowledge what it is you’re feeling, and continue with the body scan. And of course, if you realize your mind has wandered, simply note the thought, and return your attention to the body.', 'Put most simply, meditation is a way to train the mind. Most of the time, our minds are wandering — we’re thinking about the future, dwelling on the past, worrying, fantasizing, fretting or daydreaming. Meditation brings us back to the present moment, and gives us the tools we need to be less stressed, calmer and kinder to ourselves and others.\\n“Meditation is a training of our attention,” Ms. Brach said. “It allows us to step out of distracted thought, and helps us arrive in the present moment in a balanced and clear way.”', 'There are lots of different types of meditation. Most religions have contemplative traditions, and there are plenty of secular ways to meditate, too. But in recent years, mindfulness meditation has become increasingly popular.\\nBasic mindfulness meditation is the practice of paying attention to the present moment with an accepting, nonjudgmental disposition. The goal isn’t to stop thinking, or to empty the mind. Rather, the point is to pay close attention to your physical sensations, thoughts and emotions in order to see them more clearly, without making so many assumptions, or making up stories.\\nIt’s a deceptively simple exercise — just be right here, right now, without daydreaming. But with practice it can yield profound results, giving us greater control of our actions, and making room for more kindness and equanimity, even in difficult situations. With time, mindfulness meditation can even help us better understand what causes us stress, and what we can do to relieve it.\\nThough mindfulness meditation was inspired by Buddhist practices, today it is available as a wholly secular practice that emphasizes stress reduction, the cultivation of focus and the development of tranquility.\\n“There’s a misconception that mindfulness is religious,” said Mr. Smith. “What we have to explain is that it’s a stress reduction technique and a way to get yourself stronger mentally. It’s a self-care practice.”\\nThere’s a large and growing body of research identifying the measurable effects of mindfulness on the body and brain, and it is catching on in professional settings including education, sports, business and even the military.', 'Though the words are sometimes used interchangeably, it’s useful to draw a distinction between mindfulness and meditation.\\nMindfulness is a quality of being — the experience of being open and aware in the present moment, without reflexive judgment, automatic criticism or mind wandering.\\nMindfulness meditation is the practice of actually being present in the moment, which in turn trains us to become more mindful throughout the day, particularly during difficult situations.\\nAs Ms. Brach puts it: “Mindfulness is your awareness of what’s going on in the present moment without any judgment. Meditation is the training of attention which cultivates that mindfulness.”\\nMindfulness meditation isn’t the only way to meditate. Transcendental Meditation, which aims to promote a state of relaxed awareness through the recitation of a mantra, is also popular these days. But in this guide, we’re focused on mindfulness, which is increasingly popular and easy to learn.', 'Just like any habit, meditation gets easier to do if it’s part of your routine. Choose a time to do it each day and try to stick with it. For many people, it’s easiest to meditate first thing in the morning. But whether it’s at lunch, after work, or before you go to bed, see if you can be consistent. “Start by setting aside time each day,” said Ms. Brach. “Just like physical exercise, to develop a habit of practice means being regular.”', 'Similarly, it can help to meditate in the same location each day. This isn’t essential, but it can help minimize the potential for distractions and mind wandering. It’s not necessary to fold your legs into lotus position, or even sit on the floor. Just find a comfortable position where you can sit upright, and where you won’t be too distracted. “The important thing is that we’re committing a little bit of time to come into stillness and simply pay attention to what’s going on in our inner life,” said Ms. Brach.', 'You don’t need to spend a dime to get started. All you need is somewhere to sit, and a little willpower. That said, there are plenty of meditation cushions, stools and other accessories for those who want to get kitted out. But a comfortable chair, or a soft rug in a quiet corner, is really all you need.', 'Once you’re comfortable with sitting meditation and the body scan, you might want to try walking meditation. There’s no rule against trying walking meditation first, but it’s useful to learn the basics before you try to walk and meditate at the same time.', 'Not only is mindful eating a valuable (and often enjoyable) exercise that can reveal a whole new world of interesting sensory experiences, but some studies suggest that it can lead to weight loss. When we pay closer attention to how hungry we are, and what we’re eating, it turns out we often eat less.\\nTake time to acknowledge every aspect of the eating experience, and your reactions to it. Notice how you feel as you sit down for a meal. Are you hungry  Is your mouth watering \\nTake a close look at the food. What does it look like  Inspect it carefully. Is it warm or cold  What does it smell like  Does it make a sound when you hold it \\nAs you prepare to take your first bite, pay close attention to your own reactions. More salivating  Are you already thinking about the next bite \\nWhen the food hits your tongue, what happens  Notice the impulse to chew. Are you already inclined to swallow and take the next bite \\nHow does the feeling of the food change as it gets chewed  What does it feel like as it makes its way down your throat  Can you feel it in your stomach \\nTake your time. When you’ve completely finished one bite, move on to the next, again noticing everything you can about the experience — from the tastes, smells and physical sensations, to your own desires, reactions and impulses.', 'It’s important to approach your new meditation practice with a healthy outlook. Try to be relaxed, curious and friendly. Staying in touch with these qualities will be useful as you encounter some of the inevitable ups and downs of meditation. If you find yourself striving too hard or criticizing yourself, take a few deep breaths and give yourself permission to relax and take it easy. Remember, the purpose of meditation isn’t to achieve perfect control over your mind or stop thinking altogether. The intention should be to bring a more compassionate, calm and accepting approach to whatever happens. “In order to see clearly what’s in the present moment, there has to be a nonjudging, open and allowing presence,” said Ms. Brach. “A space that is friendly and warm and accepting.”', 'Basic mindfulness meditation is very simple, even if it isn’t always easy to do. More than anything else, it requires a commitment. “Admiring the idea of meditation doesn’t really do anything,” said Sharon Salzberg, who has taught mindfulness meditation for more than 40 years.\\nAnd remember, mindfulness and meditation are not panaceas. Thoughts won’t disappear. Difficult emotions may come up. When you start meditating — especially early on — it may feel impossible to stay focused. But in time, it will get easier.\\nAs you begin, rather than trying to achieve some out-of-body experience, see what it feels like to just hang out in the present moment, noticing your physical sensations, thoughts and emotions. “The ideal thing is to just be present with what’s going on,” said Ms. Brach. “Put aside all expectation and judgment about what’s going to happen.”', 'Self-Criticism: When we begin meditating, it’s all too common to beat up on ourselves. I’m doing it wrong! I’m not a good meditator! I’ll never be able to follow my breath! Most everyone who has tried to meditate has experienced some version of this self-doubt. Though it’s natural impulse, it’s not helpful. Remember, the purpose of meditation isn’t to enter a bliss state or eradicate all thinking. It’s simply to be present with what’s going on right now, whatever that is. Try to let go of any judgments you have about good meditation or bad meditation, and whether or not you’ve achieved anything. We all have the capacity for clarity, for calm and for mindfulness.\\nSleepiness: Many people get sleepy when they try to meditate. This may be because our minds are simply overstimulated, or it may be because our bodies are tired and need some rest. Either way, there are skillful ways to wake ourselves up so we can engage in meditation. Straighten your posture. Open your eyes. Try walking meditation. Instead of using your breath as the anchor of your attention, try listening to sounds. Or, develop a pattern of sensations to focus on: for example, first the feeling of breath passing in and out of your nostrils, then the diaphragm rising and falling, and then the gentle breeze of air just above your lips.\\nRestlessness: We’re so used to keeping busy, that meditation can seem boring at first. If that’s the case, try focusing on very specific sensations, like the outbreath. You can even try to control your breathing, taking shorter inbreaths and longer outbreaths. Most importantly, try not to be too hard on yourself.\\nPain: You may feel pain when you begin to practice meditation for longer durations. It could be just a sharp, fleeting pang in your legs, or it could be dull cramps or aches in your back. Whatever it is, try to simply notice it and accept it at first. Acknowledge that it’s a feeling, just like any other feeling, and that it will eventually pass. If it persists, try directing your attention to another part of the body. And if the pain gets intolerable, adjust your posture as needed.\\nFear: In the rare instance, panic or fear may arise. Should this happen, try to shift the attention toward something outside the body, like the air whooshing in and out of your nostrils, or sounds. But don’t force yourself to pay close attention to whatever it is that might be causing you emotional discomfort. And if it’s too intense, don’t worry about opening your eyes, or just taking a break.\\xa0', 'With mindfulness now mainstream, resources abound to help people maintain and deepen their practice. Mindful publishes a bi-montly magazine and maintains a robust website full of stories and instructions. Ms. Salzberg has published several books on mindfulness, as has Ms. Brach. And there are dozens of other good books on the topic.', 'Practicing on your own is great, but there’s nothing like a good teacher and a community to support your practice. Just as listening to a teacher can help you stay focused when the mind wanders, finding a group to practice with can help make meditation part of your routine.\\nMindfulness Based Stress Reduction is an eight-week course that has emerged as one of the most popular introductions to meditation today. MBSR classes and other basic introductions to meditation are offered in hundreds of cities around the globe, and many other meditation centers provide mindfulness training as well. Mindful has also pulled together a list of centers here.', 'There are several apps that can help you maintain a meditation practice. Here are a few of our favorite.']\n"
     ]
    }
   ],
   "source": [
    "# appending all the sentences together\n",
    "para = []\n",
    "for art in soup.find_all(class_=\"text-container\"):\n",
    "    para.append(art.get_text().replace(\"?\",\" \"))\n",
    "\n",
    "print(para)"
   ]
  },
  {
   "cell_type": "code",
   "execution_count": 124,
   "metadata": {},
   "outputs": [],
   "source": [
    "from nltk.tokenize import sent_tokenize,word_tokenize\n",
    "from nltk.corpus import stopwords\n",
    "from string import punctuation\n",
    "from nltk.probability import FreqDist\n",
    "from heapq import nlargest\n",
    "from collections import defaultdict"
   ]
  },
  {
   "cell_type": "code",
   "execution_count": 125,
   "metadata": {},
   "outputs": [],
   "source": [
    "# break down the article into sentences and words\n",
    "sents = sent_tokenize(article)\n",
    "word_sent = word_tokenize(text.lower())"
   ]
  },
  {
   "cell_type": "code",
   "execution_count": 129,
   "metadata": {},
   "outputs": [
    {
     "data": {
      "text/plain": [
       "['meditation', 'is', 'a', 'simple']"
      ]
     },
     "execution_count": 129,
     "metadata": {},
     "output_type": "execute_result"
    }
   ],
   "source": [
    "# check first few words\n",
    "word_sent[:4]"
   ]
  },
  {
   "cell_type": "code",
   "execution_count": 135,
   "metadata": {},
   "outputs": [],
   "source": [
    "# creating list of words to be avoided\n",
    "avoid_words = set(stopwords.words('english') + list(punctuation)+list(['’','“','—','”']))\n"
   ]
  },
  {
   "cell_type": "code",
   "execution_count": 137,
   "metadata": {},
   "outputs": [
    {
     "data": {
      "text/plain": [
       "['meditation', 'simple', 'practice', 'available', 'reduce', 'stress']"
      ]
     },
     "execution_count": 137,
     "metadata": {},
     "output_type": "execute_result"
    }
   ],
   "source": [
    "word_sent=[word for word in word_sent if word not in avoid_words]\n",
    "word_sent[:6]"
   ]
  },
  {
   "cell_type": "code",
   "execution_count": 139,
   "metadata": {},
   "outputs": [
    {
     "data": {
      "text/plain": [
       "['meditation',\n",
       " 'mindfulness',\n",
       " 'present',\n",
       " 'practice',\n",
       " 'attention',\n",
       " 'try',\n",
       " 'said',\n",
       " 'moment',\n",
       " 'time',\n",
       " 'brach']"
      ]
     },
     "execution_count": 139,
     "metadata": {},
     "output_type": "execute_result"
    }
   ],
   "source": [
    "# count how many times each word occurs using frequency distribution to know the importance of words\n",
    "# get top 10 high frequency words\n",
    "freq = FreqDist(word_sent)\n",
    "nlargest(10, freq, key=freq.get)"
   ]
  },
  {
   "cell_type": "code",
   "execution_count": 153,
   "metadata": {},
   "outputs": [
    {
     "data": {
      "text/plain": [
       "114"
      ]
     },
     "execution_count": 153,
     "metadata": {},
     "output_type": "execute_result"
    }
   ],
   "source": [
    "# will give score to each sentence based on the maximum frequent words it has\n",
    "sent_score = defaultdict(int)\n",
    "for i,sent in enumerate(sents):\n",
    "    for k in word_tokenize(sent.lower()):\n",
    "        if k in freq:\n",
    "            sent_score[i] += freq[k]\n",
    "            \n",
    "sent_score[11] # checking 11th sentence score"
   ]
  },
  {
   "cell_type": "code",
   "execution_count": 158,
   "metadata": {},
   "outputs": [
    {
     "data": {
      "text/plain": [
       "['“The purpose of mindfulness meditation is to become mindful throughout all parts of our life, so that we’re awake, present and openhearted in everything we do,” said Tara Brach, a popular meditation teacher based near Washington, D.C. “Not just when we’re sitting on the cushion.”\\nMindfulness meditation isn’t about letting your thoughts wander.',\n",
       " 'Simply acknowledge whatever it is you were thinking of — without ascribing too much judgment to it, without letting it carry you away — and take a moment to come back to the present, and resume your meditation.']"
      ]
     },
     "execution_count": 158,
     "metadata": {},
     "output_type": "execute_result"
    }
   ],
   "source": [
    "# print the summary with high score scentence\n",
    "sent_row = nlargest(2, sent_score, key=sent_score.get)\n",
    "[sents[j] for j in sorted(sent_row)]"
   ]
  },
  {
   "cell_type": "code",
   "execution_count": null,
   "metadata": {},
   "outputs": [],
   "source": [
    "\n"
   ]
  }
 ],
 "metadata": {
  "kernelspec": {
   "display_name": "Python 3",
   "language": "python",
   "name": "python3"
  },
  "language_info": {
   "codemirror_mode": {
    "name": "ipython",
    "version": 3
   },
   "file_extension": ".py",
   "mimetype": "text/x-python",
   "name": "python",
   "nbconvert_exporter": "python",
   "pygments_lexer": "ipython3",
   "version": "3.7.1"
  }
 },
 "nbformat": 4,
 "nbformat_minor": 2
}
