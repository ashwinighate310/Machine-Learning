{
 "cells": [
  {
   "cell_type": "code",
   "execution_count": 1,
   "metadata": {},
   "outputs": [],
   "source": [
    "# The dataset contains all historical daily prices (open, high, low, close) for all cryptocurrencies listed on CoinMarketCap.\n",
    "# Will try to predict the future value for cryptocurrencies"
   ]
  },
  {
   "cell_type": "code",
   "execution_count": 87,
   "metadata": {},
   "outputs": [],
   "source": [
    "import pandas as pd\n",
    "import numpy as np\n",
    "import matplotlib.pyplot as plt\n",
    "from matplotlib import style\n",
    "import seaborn as sns\n",
    "import datetime\n",
    "import math\n",
    "import sklearn\n",
    "from sklearn import preprocessing, svm\n",
    "from sklearn.model_selection import cross_validate, train_test_split\n",
    "from sklearn.linear_model import LinearRegression\n",
    "%matplotlib inline\n",
    "import warnings\n",
    "warnings.filterwarnings('ignore')"
   ]
  },
  {
   "cell_type": "code",
   "execution_count": 160,
   "metadata": {},
   "outputs": [
    {
     "data": {
      "text/html": [
       "<div>\n",
       "<style scoped>\n",
       "    .dataframe tbody tr th:only-of-type {\n",
       "        vertical-align: middle;\n",
       "    }\n",
       "\n",
       "    .dataframe tbody tr th {\n",
       "        vertical-align: top;\n",
       "    }\n",
       "\n",
       "    .dataframe thead th {\n",
       "        text-align: right;\n",
       "    }\n",
       "</style>\n",
       "<table border=\"1\" class=\"dataframe\">\n",
       "  <thead>\n",
       "    <tr style=\"text-align: right;\">\n",
       "      <th></th>\n",
       "      <th>Unnamed: 0</th>\n",
       "      <th>Symbol</th>\n",
       "      <th>Open</th>\n",
       "      <th>High</th>\n",
       "      <th>Low</th>\n",
       "      <th>Close</th>\n",
       "      <th>Volume</th>\n",
       "      <th>Market Cap</th>\n",
       "    </tr>\n",
       "    <tr>\n",
       "      <th>Date</th>\n",
       "      <th></th>\n",
       "      <th></th>\n",
       "      <th></th>\n",
       "      <th></th>\n",
       "      <th></th>\n",
       "      <th></th>\n",
       "      <th></th>\n",
       "      <th></th>\n",
       "    </tr>\n",
       "  </thead>\n",
       "  <tbody>\n",
       "    <tr>\n",
       "      <th>2015-11-12</th>\n",
       "      <td>0</td>\n",
       "      <td>$$$</td>\n",
       "      <td>0.000013</td>\n",
       "      <td>0.000017</td>\n",
       "      <td>0.000013</td>\n",
       "      <td>0.000017</td>\n",
       "      <td>142.0</td>\n",
       "      <td>NaN</td>\n",
       "    </tr>\n",
       "    <tr>\n",
       "      <th>2015-11-13</th>\n",
       "      <td>1</td>\n",
       "      <td>$$$</td>\n",
       "      <td>0.000017</td>\n",
       "      <td>0.000033</td>\n",
       "      <td>0.000016</td>\n",
       "      <td>0.000024</td>\n",
       "      <td>85.0</td>\n",
       "      <td>NaN</td>\n",
       "    </tr>\n",
       "    <tr>\n",
       "      <th>2015-11-14</th>\n",
       "      <td>2</td>\n",
       "      <td>$$$</td>\n",
       "      <td>0.000024</td>\n",
       "      <td>0.000053</td>\n",
       "      <td>0.000023</td>\n",
       "      <td>0.000030</td>\n",
       "      <td>131.0</td>\n",
       "      <td>NaN</td>\n",
       "    </tr>\n",
       "    <tr>\n",
       "      <th>2015-11-15</th>\n",
       "      <td>3</td>\n",
       "      <td>$$$</td>\n",
       "      <td>0.000030</td>\n",
       "      <td>0.000063</td>\n",
       "      <td>0.000022</td>\n",
       "      <td>0.000035</td>\n",
       "      <td>132.0</td>\n",
       "      <td>NaN</td>\n",
       "    </tr>\n",
       "    <tr>\n",
       "      <th>2015-11-16</th>\n",
       "      <td>4</td>\n",
       "      <td>$$$</td>\n",
       "      <td>0.000035</td>\n",
       "      <td>0.000046</td>\n",
       "      <td>0.000032</td>\n",
       "      <td>0.000036</td>\n",
       "      <td>280.0</td>\n",
       "      <td>NaN</td>\n",
       "    </tr>\n",
       "  </tbody>\n",
       "</table>\n",
       "</div>"
      ],
      "text/plain": [
       "            Unnamed: 0 Symbol      Open      High       Low     Close  Volume  \\\n",
       "Date                                                                            \n",
       "2015-11-12           0    $$$  0.000013  0.000017  0.000013  0.000017   142.0   \n",
       "2015-11-13           1    $$$  0.000017  0.000033  0.000016  0.000024    85.0   \n",
       "2015-11-14           2    $$$  0.000024  0.000053  0.000023  0.000030   131.0   \n",
       "2015-11-15           3    $$$  0.000030  0.000063  0.000022  0.000035   132.0   \n",
       "2015-11-16           4    $$$  0.000035  0.000046  0.000032  0.000036   280.0   \n",
       "\n",
       "            Market Cap  \n",
       "Date                    \n",
       "2015-11-12         NaN  \n",
       "2015-11-13         NaN  \n",
       "2015-11-14         NaN  \n",
       "2015-11-15         NaN  \n",
       "2015-11-16         NaN  "
      ]
     },
     "execution_count": 160,
     "metadata": {},
     "output_type": "execute_result"
    }
   ],
   "source": [
    "dateparse = lambda dates: pd.datetime.strptime(dates, '%Y-%m-%d')\n",
    "df = pd.read_csv('all_currencies.csv', parse_dates=['Date'], index_col='Date', date_parser=dateparse)\n",
    "df.head()"
   ]
  },
  {
   "cell_type": "code",
   "execution_count": 161,
   "metadata": {},
   "outputs": [],
   "source": [
    "# let's createa list of symbols\n",
    "symbol_list = df['Symbol'].value_counts().index.tolist()\n",
    "# print(symbol_list)"
   ]
  },
  {
   "cell_type": "code",
   "execution_count": 175,
   "metadata": {},
   "outputs": [
    {
     "data": {
      "text/plain": [
       "BTC    1979\n",
       "NMC    1979\n",
       "LTC    1979\n",
       "PPC    1978\n",
       "NVC    1978\n",
       "Name: Symbol, dtype: int64"
      ]
     },
     "execution_count": 175,
     "metadata": {},
     "output_type": "execute_result"
    }
   ],
   "source": [
    "# check the top cryptocurrencies\n",
    "df.Symbol.value_counts().head()"
   ]
  },
  {
   "cell_type": "code",
   "execution_count": 162,
   "metadata": {},
   "outputs": [
    {
     "name": "stdout",
     "output_type": "stream",
     "text": [
      "           Symbol     Close      Open      High       Low      HL_PCT  \\\n",
      "Date                                                                    \n",
      "2015-11-12    $$$  0.000017  0.000013  0.000017  0.000013   23.529412   \n",
      "2015-11-13    $$$  0.000024  0.000017  0.000033  0.000016   70.833333   \n",
      "2015-11-14    $$$  0.000030  0.000024  0.000053  0.000023  100.000000   \n",
      "2015-11-15    $$$  0.000035  0.000030  0.000063  0.000022  117.142857   \n",
      "2015-11-16    $$$  0.000036  0.000035  0.000046  0.000032   38.888889   \n",
      "\n",
      "            PRICE_PCT  Volume  \n",
      "Date                           \n",
      "2015-11-12  30.769231   142.0  \n",
      "2015-11-13  41.176471    85.0  \n",
      "2015-11-14  25.000000   131.0  \n",
      "2015-11-15  16.666667   132.0  \n",
      "2015-11-16   2.857143   280.0  \n"
     ]
    }
   ],
   "source": [
    "# Create 2 new columns which captures the percent change in high-low value and open & close price\n",
    "df['HL_PCT'] = (df['High'] - df['Low']) / df['Close'] * 100.0\n",
    "df['PRICE_PCT'] = (df['Close'] - df['Open']) / df['Open'] * 100.0\n",
    "\n",
    "# create Dataframew ith required columns only\n",
    "df = df[['Symbol','Close','Open','High','Low', 'HL_PCT', 'PRICE_PCT', 'Volume']]\n",
    "print(df.head())"
   ]
  },
  {
   "cell_type": "code",
   "execution_count": 163,
   "metadata": {},
   "outputs": [
    {
     "data": {
      "text/plain": [
       "Symbol          0\n",
       "Close           0\n",
       "Open            0\n",
       "High            0\n",
       "Low             0\n",
       "HL_PCT          0\n",
       "PRICE_PCT       0\n",
       "Volume       5335\n",
       "dtype: int64"
      ]
     },
     "execution_count": 163,
     "metadata": {},
     "output_type": "execute_result"
    }
   ],
   "source": [
    "# Check if our required columns has any null values\n",
    "df.isnull().values.any() # It is true\n",
    "\n",
    "# count how many null values\n",
    "df.apply(lambda x: sum(x.isnull()),axis=0)"
   ]
  },
  {
   "cell_type": "code",
   "execution_count": 164,
   "metadata": {},
   "outputs": [
    {
     "data": {
      "text/html": [
       "<div>\n",
       "<style scoped>\n",
       "    .dataframe tbody tr th:only-of-type {\n",
       "        vertical-align: middle;\n",
       "    }\n",
       "\n",
       "    .dataframe tbody tr th {\n",
       "        vertical-align: top;\n",
       "    }\n",
       "\n",
       "    .dataframe thead th {\n",
       "        text-align: right;\n",
       "    }\n",
       "</style>\n",
       "<table border=\"1\" class=\"dataframe\">\n",
       "  <thead>\n",
       "    <tr style=\"text-align: right;\">\n",
       "      <th></th>\n",
       "      <th>Date</th>\n",
       "      <th>Symbol</th>\n",
       "      <th>Close</th>\n",
       "      <th>Open</th>\n",
       "      <th>High</th>\n",
       "      <th>Low</th>\n",
       "      <th>HL_PCT</th>\n",
       "      <th>PRICE_PCT</th>\n",
       "      <th>Volume</th>\n",
       "      <th>year</th>\n",
       "    </tr>\n",
       "  </thead>\n",
       "  <tbody>\n",
       "    <tr>\n",
       "      <th>0</th>\n",
       "      <td>2015-11-12</td>\n",
       "      <td>$$$</td>\n",
       "      <td>0.000017</td>\n",
       "      <td>0.000013</td>\n",
       "      <td>0.000017</td>\n",
       "      <td>0.000013</td>\n",
       "      <td>23.529412</td>\n",
       "      <td>30.769231</td>\n",
       "      <td>142.0</td>\n",
       "      <td>2015</td>\n",
       "    </tr>\n",
       "    <tr>\n",
       "      <th>1</th>\n",
       "      <td>2015-11-13</td>\n",
       "      <td>$$$</td>\n",
       "      <td>0.000024</td>\n",
       "      <td>0.000017</td>\n",
       "      <td>0.000033</td>\n",
       "      <td>0.000016</td>\n",
       "      <td>70.833333</td>\n",
       "      <td>41.176471</td>\n",
       "      <td>85.0</td>\n",
       "      <td>2015</td>\n",
       "    </tr>\n",
       "    <tr>\n",
       "      <th>2</th>\n",
       "      <td>2015-11-14</td>\n",
       "      <td>$$$</td>\n",
       "      <td>0.000030</td>\n",
       "      <td>0.000024</td>\n",
       "      <td>0.000053</td>\n",
       "      <td>0.000023</td>\n",
       "      <td>100.000000</td>\n",
       "      <td>25.000000</td>\n",
       "      <td>131.0</td>\n",
       "      <td>2015</td>\n",
       "    </tr>\n",
       "    <tr>\n",
       "      <th>3</th>\n",
       "      <td>2015-11-15</td>\n",
       "      <td>$$$</td>\n",
       "      <td>0.000035</td>\n",
       "      <td>0.000030</td>\n",
       "      <td>0.000063</td>\n",
       "      <td>0.000022</td>\n",
       "      <td>117.142857</td>\n",
       "      <td>16.666667</td>\n",
       "      <td>132.0</td>\n",
       "      <td>2015</td>\n",
       "    </tr>\n",
       "    <tr>\n",
       "      <th>4</th>\n",
       "      <td>2015-11-16</td>\n",
       "      <td>$$$</td>\n",
       "      <td>0.000036</td>\n",
       "      <td>0.000035</td>\n",
       "      <td>0.000046</td>\n",
       "      <td>0.000032</td>\n",
       "      <td>38.888889</td>\n",
       "      <td>2.857143</td>\n",
       "      <td>280.0</td>\n",
       "      <td>2015</td>\n",
       "    </tr>\n",
       "  </tbody>\n",
       "</table>\n",
       "</div>"
      ],
      "text/plain": [
       "        Date Symbol     Close      Open      High       Low      HL_PCT  \\\n",
       "0 2015-11-12    $$$  0.000017  0.000013  0.000017  0.000013   23.529412   \n",
       "1 2015-11-13    $$$  0.000024  0.000017  0.000033  0.000016   70.833333   \n",
       "2 2015-11-14    $$$  0.000030  0.000024  0.000053  0.000023  100.000000   \n",
       "3 2015-11-15    $$$  0.000035  0.000030  0.000063  0.000022  117.142857   \n",
       "4 2015-11-16    $$$  0.000036  0.000035  0.000046  0.000032   38.888889   \n",
       "\n",
       "   PRICE_PCT  Volume  year  \n",
       "0  30.769231   142.0  2015  \n",
       "1  41.176471    85.0  2015  \n",
       "2  25.000000   131.0  2015  \n",
       "3  16.666667   132.0  2015  \n",
       "4   2.857143   280.0  2015  "
      ]
     },
     "execution_count": 164,
     "metadata": {},
     "output_type": "execute_result"
    }
   ],
   "source": [
    "#check which rows has null values for Condition columns \n",
    "data=df.reset_index()\n",
    "data['year']=data['Date'].dt.year\n",
    "data.head()\n",
    "#data[data['Volume'].isnull()]['year'].unique()"
   ]
  },
  {
   "cell_type": "code",
   "execution_count": 8,
   "metadata": {},
   "outputs": [
    {
     "data": {
      "text/plain": [
       "<matplotlib.axes._subplots.AxesSubplot at 0x5662950>"
      ]
     },
     "execution_count": 8,
     "metadata": {},
     "output_type": "execute_result"
    },
    {
     "data": {
      "image/png": "[encoded data removed]",
      "text/plain": [
       "<Figure size 1080x360 with 1 Axes>"
      ]
     },
     "metadata": {
      "needs_background": "light"
     },
     "output_type": "display_data"
    }
   ],
   "source": [
    "# since we are having data from 2013, so initial volume was not recorded, hence it is null\n",
    "# Lets check for 2018 \n",
    "plt.figure(figsize=(15,5))\n",
    "sns.scatterplot(x=\"Symbol\",y=\"Volume\", data=data.loc[data.year.isin([2018])])"
   ]
  },
  {
   "cell_type": "code",
   "execution_count": 9,
   "metadata": {},
   "outputs": [
    {
     "data": {
      "text/plain": [
       "<matplotlib.axes._subplots.AxesSubplot at 0x13793610>"
      ]
     },
     "execution_count": 9,
     "metadata": {},
     "output_type": "execute_result"
    },
    {
     "data": {
      "image/png": "[encoded data removed]",
      "text/plain": [
       "<Figure size 1080x360 with 1 Axes>"
      ]
     },
     "metadata": {
      "needs_background": "light"
     },
     "output_type": "display_data"
    }
   ],
   "source": [
    "# let's check the volume statistics\n",
    "plt.figure(figsize=(15,5))\n",
    "sns.lineplot(x=\"Date\",y=\"Volume\", hue=\"Symbol\", data=df.reset_index(),legend=False)\n",
    "# from the below graph we can say that after 2017 only crytocurrency market started rising, so let's analyze only that"
   ]
  },
  {
   "cell_type": "code",
   "execution_count": 165,
   "metadata": {},
   "outputs": [],
   "source": [
    "# we will exclude 2013 null data and for 2018 Null values, will replace with -99999\n",
    "# With many ML classifiers, it will just be recognized and treated as an outlier feature. \n",
    "df.fillna(value=-9999, inplace=True)\n",
    "# or you can drop all null values but you will miss lots of data then\n",
    "# df=df.dropna(how='all')"
   ]
  },
  {
   "cell_type": "code",
   "execution_count": 166,
   "metadata": {},
   "outputs": [
    {
     "data": {
      "text/plain": [
       "[<matplotlib.lines.Line2D at 0x11803dd0>]"
      ]
     },
     "execution_count": 166,
     "metadata": {},
     "output_type": "execute_result"
    },
    {
     "data": {
      "image/png": "[encoded data removed]",
      "text/plain": [
       "<Figure size 432x288 with 1 Axes>"
      ]
     },
     "metadata": {},
     "output_type": "display_data"
    }
   ],
   "source": [
    "# we will see how Bitcoin performed over the years\n",
    "plt.plot(df.loc[df['Symbol'] == 'BTC',['Close']], c='g')"
   ]
  },
  {
   "cell_type": "code",
   "execution_count": 180,
   "metadata": {},
   "outputs": [
    {
     "data": {
      "text/html": [
       "<div>\n",
       "<style scoped>\n",
       "    .dataframe tbody tr th:only-of-type {\n",
       "        vertical-align: middle;\n",
       "    }\n",
       "\n",
       "    .dataframe tbody tr th {\n",
       "        vertical-align: top;\n",
       "    }\n",
       "\n",
       "    .dataframe thead th {\n",
       "        text-align: right;\n",
       "    }\n",
       "</style>\n",
       "<table border=\"1\" class=\"dataframe\">\n",
       "  <thead>\n",
       "    <tr style=\"text-align: right;\">\n",
       "      <th></th>\n",
       "      <th>Symbol</th>\n",
       "      <th>Close</th>\n",
       "      <th>Open</th>\n",
       "      <th>High</th>\n",
       "      <th>Low</th>\n",
       "      <th>HL_PCT</th>\n",
       "      <th>PRICE_PCT</th>\n",
       "      <th>Volume</th>\n",
       "    </tr>\n",
       "    <tr>\n",
       "      <th>Date</th>\n",
       "      <th></th>\n",
       "      <th></th>\n",
       "      <th></th>\n",
       "      <th></th>\n",
       "      <th></th>\n",
       "      <th></th>\n",
       "      <th></th>\n",
       "      <th></th>\n",
       "    </tr>\n",
       "  </thead>\n",
       "  <tbody>\n",
       "    <tr>\n",
       "      <th>2017-01-01</th>\n",
       "      <td>BTC</td>\n",
       "      <td>998.33</td>\n",
       "      <td>963.66</td>\n",
       "      <td>1003.08</td>\n",
       "      <td>958.70</td>\n",
       "      <td>4.445424</td>\n",
       "      <td>3.597742</td>\n",
       "      <td>147775008.0</td>\n",
       "    </tr>\n",
       "    <tr>\n",
       "      <th>2017-01-02</th>\n",
       "      <td>BTC</td>\n",
       "      <td>1021.75</td>\n",
       "      <td>998.62</td>\n",
       "      <td>1031.39</td>\n",
       "      <td>996.70</td>\n",
       "      <td>3.395155</td>\n",
       "      <td>2.316196</td>\n",
       "      <td>222184992.0</td>\n",
       "    </tr>\n",
       "    <tr>\n",
       "      <th>2017-01-03</th>\n",
       "      <td>BTC</td>\n",
       "      <td>1043.84</td>\n",
       "      <td>1021.60</td>\n",
       "      <td>1044.08</td>\n",
       "      <td>1021.60</td>\n",
       "      <td>2.153587</td>\n",
       "      <td>2.176977</td>\n",
       "      <td>185168000.0</td>\n",
       "    </tr>\n",
       "    <tr>\n",
       "      <th>2017-01-04</th>\n",
       "      <td>BTC</td>\n",
       "      <td>1154.73</td>\n",
       "      <td>1044.40</td>\n",
       "      <td>1159.42</td>\n",
       "      <td>1044.40</td>\n",
       "      <td>9.960770</td>\n",
       "      <td>10.563960</td>\n",
       "      <td>344945984.0</td>\n",
       "    </tr>\n",
       "    <tr>\n",
       "      <th>2017-01-05</th>\n",
       "      <td>BTC</td>\n",
       "      <td>1013.38</td>\n",
       "      <td>1156.73</td>\n",
       "      <td>1191.10</td>\n",
       "      <td>910.42</td>\n",
       "      <td>27.697409</td>\n",
       "      <td>-12.392693</td>\n",
       "      <td>510199008.0</td>\n",
       "    </tr>\n",
       "  </tbody>\n",
       "</table>\n",
       "</div>"
      ],
      "text/plain": [
       "           Symbol    Close     Open     High      Low     HL_PCT  PRICE_PCT  \\\n",
       "Date                                                                          \n",
       "2017-01-01    BTC   998.33   963.66  1003.08   958.70   4.445424   3.597742   \n",
       "2017-01-02    BTC  1021.75   998.62  1031.39   996.70   3.395155   2.316196   \n",
       "2017-01-03    BTC  1043.84  1021.60  1044.08  1021.60   2.153587   2.176977   \n",
       "2017-01-04    BTC  1154.73  1044.40  1159.42  1044.40   9.960770  10.563960   \n",
       "2017-01-05    BTC  1013.38  1156.73  1191.10   910.42  27.697409 -12.392693   \n",
       "\n",
       "                 Volume  \n",
       "Date                     \n",
       "2017-01-01  147775008.0  \n",
       "2017-01-02  222184992.0  \n",
       "2017-01-03  185168000.0  \n",
       "2017-01-04  344945984.0  \n",
       "2017-01-05  510199008.0  "
      ]
     },
     "execution_count": 180,
     "metadata": {},
     "output_type": "execute_result"
    }
   ],
   "source": [
    "# Define Dataframe for each Symbol, for which values has to predict\n",
    "def create_df(symbol):\n",
    "    df1=df.loc[(df['Symbol'] == symbol ) & (pd.to_datetime(df.index).year >= 2017)] \n",
    "    return df1\n",
    "\n",
    "df_per_Symbol = create_df('BTC')\n",
    "df_per_Symbol.head()"
   ]
  },
  {
   "cell_type": "code",
   "execution_count": 181,
   "metadata": {},
   "outputs": [
    {
     "data": {
      "text/plain": [
       "32"
      ]
     },
     "execution_count": 181,
     "metadata": {},
     "output_type": "execute_result"
    }
   ],
   "source": [
    "# features are open price, High/Low difference percent, and the percent change in price (open, close).\n",
    "# labels are close price, which we will predict\n",
    "predict_col = 'Close'\n",
    "predict_out = int(math.ceil(0.05 * len(df_per_Symbol))) # forecast out 2% of the entire length of the dataset, 32 days\n",
    "predict_out"
   ]
  },
  {
   "cell_type": "code",
   "execution_count": 182,
   "metadata": {},
   "outputs": [
    {
     "data": {
      "text/html": [
       "<div>\n",
       "<style scoped>\n",
       "    .dataframe tbody tr th:only-of-type {\n",
       "        vertical-align: middle;\n",
       "    }\n",
       "\n",
       "    .dataframe tbody tr th {\n",
       "        vertical-align: top;\n",
       "    }\n",
       "\n",
       "    .dataframe thead th {\n",
       "        text-align: right;\n",
       "    }\n",
       "</style>\n",
       "<table border=\"1\" class=\"dataframe\">\n",
       "  <thead>\n",
       "    <tr style=\"text-align: right;\">\n",
       "      <th></th>\n",
       "      <th>Symbol</th>\n",
       "      <th>Close</th>\n",
       "      <th>Open</th>\n",
       "      <th>High</th>\n",
       "      <th>Low</th>\n",
       "      <th>HL_PCT</th>\n",
       "      <th>PRICE_PCT</th>\n",
       "      <th>Volume</th>\n",
       "      <th>label</th>\n",
       "    </tr>\n",
       "    <tr>\n",
       "      <th>Date</th>\n",
       "      <th></th>\n",
       "      <th></th>\n",
       "      <th></th>\n",
       "      <th></th>\n",
       "      <th></th>\n",
       "      <th></th>\n",
       "      <th></th>\n",
       "      <th></th>\n",
       "      <th></th>\n",
       "    </tr>\n",
       "  </thead>\n",
       "  <tbody>\n",
       "    <tr>\n",
       "      <th>2017-01-01</th>\n",
       "      <td>BTC</td>\n",
       "      <td>998.33</td>\n",
       "      <td>963.66</td>\n",
       "      <td>1003.08</td>\n",
       "      <td>958.70</td>\n",
       "      <td>4.445424</td>\n",
       "      <td>3.597742</td>\n",
       "      <td>147775008.0</td>\n",
       "      <td>1011.80</td>\n",
       "    </tr>\n",
       "    <tr>\n",
       "      <th>2017-01-02</th>\n",
       "      <td>BTC</td>\n",
       "      <td>1021.75</td>\n",
       "      <td>998.62</td>\n",
       "      <td>1031.39</td>\n",
       "      <td>996.70</td>\n",
       "      <td>3.395155</td>\n",
       "      <td>2.316196</td>\n",
       "      <td>222184992.0</td>\n",
       "      <td>1029.91</td>\n",
       "    </tr>\n",
       "    <tr>\n",
       "      <th>2017-01-03</th>\n",
       "      <td>BTC</td>\n",
       "      <td>1043.84</td>\n",
       "      <td>1021.60</td>\n",
       "      <td>1044.08</td>\n",
       "      <td>1021.60</td>\n",
       "      <td>2.153587</td>\n",
       "      <td>2.176977</td>\n",
       "      <td>185168000.0</td>\n",
       "      <td>1042.90</td>\n",
       "    </tr>\n",
       "    <tr>\n",
       "      <th>2017-01-04</th>\n",
       "      <td>BTC</td>\n",
       "      <td>1154.73</td>\n",
       "      <td>1044.40</td>\n",
       "      <td>1159.42</td>\n",
       "      <td>1044.40</td>\n",
       "      <td>9.960770</td>\n",
       "      <td>10.563960</td>\n",
       "      <td>344945984.0</td>\n",
       "      <td>1027.34</td>\n",
       "    </tr>\n",
       "    <tr>\n",
       "      <th>2017-01-05</th>\n",
       "      <td>BTC</td>\n",
       "      <td>1013.38</td>\n",
       "      <td>1156.73</td>\n",
       "      <td>1191.10</td>\n",
       "      <td>910.42</td>\n",
       "      <td>27.697409</td>\n",
       "      <td>-12.392693</td>\n",
       "      <td>510199008.0</td>\n",
       "      <td>1038.15</td>\n",
       "    </tr>\n",
       "  </tbody>\n",
       "</table>\n",
       "</div>"
      ],
      "text/plain": [
       "           Symbol    Close     Open     High      Low     HL_PCT  PRICE_PCT  \\\n",
       "Date                                                                          \n",
       "2017-01-01    BTC   998.33   963.66  1003.08   958.70   4.445424   3.597742   \n",
       "2017-01-02    BTC  1021.75   998.62  1031.39   996.70   3.395155   2.316196   \n",
       "2017-01-03    BTC  1043.84  1021.60  1044.08  1021.60   2.153587   2.176977   \n",
       "2017-01-04    BTC  1154.73  1044.40  1159.42  1044.40   9.960770  10.563960   \n",
       "2017-01-05    BTC  1013.38  1156.73  1191.10   910.42  27.697409 -12.392693   \n",
       "\n",
       "                 Volume    label  \n",
       "Date                              \n",
       "2017-01-01  147775008.0  1011.80  \n",
       "2017-01-02  222184992.0  1029.91  \n",
       "2017-01-03  185168000.0  1042.90  \n",
       "2017-01-04  344945984.0  1027.34  \n",
       "2017-01-05  510199008.0  1038.15  "
      ]
     },
     "execution_count": 182,
     "metadata": {},
     "output_type": "execute_result"
    }
   ],
   "source": [
    "# shift the index (should be date) without realigning the data, label is our feature (coming 40th day value)\n",
    "df_per_Symbol['label'] = df_per_Symbol[predict_col].shift(-predict_out)\n",
    "df_per_Symbol.head()"
   ]
  },
  {
   "cell_type": "code",
   "execution_count": 183,
   "metadata": {},
   "outputs": [
    {
     "name": "stdout",
     "output_type": "stream",
     "text": [
      "0.6588492287274543\n"
     ]
    }
   ],
   "source": [
    "df_per_Symbol.dropna(inplace=True) # drops if still has any NaN\n",
    "df_model = df_per_Symbol \n",
    "\n",
    "X = np.array(df_model.drop(['label','Symbol'], 1)) # features\n",
    "y = np.array(df_model['label'])   # labels\n",
    "\n",
    "# Standardize a dataset along any axis, ML methods are more effective if the data attributes have the same scale\n",
    "X = preprocessing.scale(X)\n",
    "y = np.array(df_model['label'])\n",
    "\n",
    "# Let's split our data and check the confidence/accurcay\n",
    "X_train, X_test, y_train, y_test = train_test_split(X, y, test_size=0.2)\n",
    "\n",
    "# choose Linear Regression classifier\n",
    "clf = LinearRegression()\n",
    "clf.fit(X_train, y_train) # train the model\n",
    "confidence = clf.score(X_test, y_test) # check the confidence\n",
    "print(confidence)"
   ]
  },
  {
   "cell_type": "code",
   "execution_count": 185,
   "metadata": {},
   "outputs": [
    {
     "name": "stdout",
     "output_type": "stream",
     "text": [
      "Mean absolute error :  1313.5171175510088\n",
      "Mean squared error : 3817773.525074298\n",
      "Root Mean squared error:  1953.912363713966\n"
     ]
    }
   ],
   "source": [
    "from sklearn import metrics\n",
    "\n",
    "y_pred = clf.predict(X_test)\n",
    "print(\"Mean absolute error : \", metrics.mean_absolute_error(y_test, y_pred)) # MAE\n",
    "print(\"Mean squared error :\", metrics.mean_squared_error(y_test, y_pred)) #MSE\n",
    "print(\"Root Mean squared error: \", np.sqrt(metrics.mean_squared_error(y_test, y_pred))) #RMSE"
   ]
  },
  {
   "cell_type": "code",
   "execution_count": 172,
   "metadata": {},
   "outputs": [
    {
     "name": "stdout",
     "output_type": "stream",
     "text": [
      "linear 0.47810967129349885\n",
      "poly 0.14996331880260816\n",
      "rbf 0.03304543615763067\n",
      "sigmoid 0.0772665847801548\n"
     ]
    }
   ],
   "source": [
    "# Let's check the SVM model . From the confidence we can say that SVM is not suited for this dataset\n",
    "for k in ['linear','poly','rbf','sigmoid']:\n",
    "    clf = svm.SVR(kernel=k)\n",
    "    clf.fit(X_train, y_train)\n",
    "    confidence = clf.score(X_test, y_test)\n",
    "    print(k,confidence)"
   ]
  },
  {
   "cell_type": "code",
   "execution_count": 173,
   "metadata": {},
   "outputs": [],
   "source": [
    "# Lets forecast the value now.\n",
    "#  X_last variable contains the most recent features, which we're going to predict against.\n",
    "df_predict = df_per_Symbol.dropna()\n",
    "# df_predict.tail()\n",
    "X = np.array(df_predict.drop(['label','Symbol'], axis=1)) \n",
    "X = preprocessing.scale(X)\n",
    "X_last = X[-predict_out:]\n",
    "X = X[:-predict_out]\n",
    "#print(np.isnan(X_last).any())\n",
    "df_predict.dropna(inplace=True)\n",
    "y = np.array(df_predict['label'])\n",
    "y = y[:-predict_out]\n",
    "\n",
    "X_train, X_test, y_train, y_test = train_test_split(X, y, test_size=0.2)\n",
    "clf = LinearRegression()\n",
    "clf.fit(X_train, y_train)\n",
    "confidence = clf.score(X_test, y_test)\n",
    "\n",
    "predict_values = clf.predict(X_last)\n",
    "df_predict['Predict_val'] = np.nan\n",
    "\n",
    "# print(predict_values, confidence, predict_out)"
   ]
  },
  {
   "cell_type": "code",
   "execution_count": 158,
   "metadata": {},
   "outputs": [
    {
     "data": {
      "image/png": "[encoded data removed]",
      "text/plain": [
       "<Figure size 1080x360 with 1 Axes>"
      ]
     },
     "metadata": {},
     "output_type": "display_data"
    }
   ],
   "source": [
    "last_date = df_predict.iloc[-1].name\n",
    "last_unix = last_date.timestamp()\n",
    "one_day = 86400\n",
    "next_unix = last_unix + one_day\n",
    "\n",
    "for i in predict_values:\n",
    "    next_date = datetime.datetime.fromtimestamp(next_unix)\n",
    "    next_unix += 86400\n",
    "    df_predict.loc[next_date] = [np.nan for _ in range(len(df_predict.columns)-1)]+[i]\n",
    "\n",
    "style.use('ggplot')\n",
    "plt.figure(figsize=(15,5))\n",
    "df_predict['Close'].plot()\n",
    "df_predict['Predict_val'].plot()\n",
    "plt.legend(loc=4)\n",
    "plt.xlabel('Date')\n",
    "plt.ylabel('Price')\n",
    "plt.show()\n"
   ]
  },
  {
   "cell_type": "code",
   "execution_count": 178,
   "metadata": {},
   "outputs": [
    {
     "data": {
      "image/png": "[encoded data removed]",
      "text/plain": [
       "<Figure size 1080x360 with 1 Axes>"
      ]
     },
     "metadata": {},
     "output_type": "display_data"
    }
   ],
   "source": [
    "# Let's predict for other cryptocurrency 'NMC'\n",
    "df_per_Symbol_1 = create_df('NMC')\n",
    "df_per_Symbol_1['label'] = df_per_Symbol_1[predict_col].shift(-predict_out)\n",
    "\n",
    "df_predict = df_per_Symbol_1.dropna()\n",
    "X = np.array(df_predict.drop(['label','Symbol'], axis=1)) \n",
    "X = preprocessing.scale(X)\n",
    "X_last = X[-predict_out:]\n",
    "X = X[:-predict_out]\n",
    "df_predict.dropna(inplace=True)\n",
    "y = np.array(df_predict['label'])\n",
    "y = y[:-predict_out]\n",
    "\n",
    "X_train, X_test, y_train, y_test = train_test_split(X, y, test_size=0.2)\n",
    "clf = LinearRegression()\n",
    "clf.fit(X_train, y_train)\n",
    "confidence = clf.score(X_test, y_test)\n",
    "\n",
    "predict_values = clf.predict(X_last)\n",
    "df_predict['Predict_val'] = np.nan\n",
    "\n",
    "last_date = df_predict.iloc[-1].name\n",
    "last_unix = last_date.timestamp()\n",
    "one_day = 86400\n",
    "next_unix = last_unix + one_day\n",
    "\n",
    "for i in predict_values:\n",
    "    next_date = datetime.datetime.fromtimestamp(next_unix)\n",
    "    next_unix += 86400\n",
    "    df_predict.loc[next_date] = [np.nan for _ in range(len(df_predict.columns)-1)]+[i]\n",
    "\n",
    "style.use('ggplot')\n",
    "plt.figure(figsize=(15,5))\n",
    "df_predict['Close'].plot()\n",
    "df_predict['Predict_val'].plot()\n",
    "plt.legend(loc=4)\n",
    "plt.xlabel('Date')\n",
    "plt.ylabel('Price')\n",
    "plt.show()\n"
   ]
  },
  {
   "cell_type": "code",
   "execution_count": null,
   "metadata": {},
   "outputs": [],
   "source": [
    "# AttributeError: 'Series' object has no attribute 'datetime'\n",
    "# ValueError: Input contains NaN, infinity or a value too large for dtype('float64')."
   ]
  }
 ],
 "metadata": {
  "kernelspec": {
   "display_name": "Python 3",
   "language": "python",
   "name": "python3"
  },
  "language_info": {
   "codemirror_mode": {
    "name": "ipython",
    "version": 3
   },
   "file_extension": ".py",
   "mimetype": "text/x-python",
   "name": "python",
   "nbconvert_exporter": "python",
   "pygments_lexer": "ipython3",
   "version": "3.7.1"
  }
 },
 "nbformat": 4,
 "nbformat_minor": 2
}
